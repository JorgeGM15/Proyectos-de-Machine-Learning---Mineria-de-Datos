{
 "cells": [
  {
   "cell_type": "markdown",
   "metadata": {},
   "source": [
    "Before you turn this problem in, make sure everything runs as expected. First, **restart the kernel** (in the menubar, select Kernel $\\rightarrow$ Restart) and then **run all cells** (in the menubar, select Cell $\\rightarrow$ Run All).\n",
    "\n",
    "Make sure you fill in any place that says `YOUR CODE HERE` or \"YOUR ANSWER HERE\", as well as your name and collaborators below:"
   ]
  },
  {
   "cell_type": "code",
   "execution_count": null,
   "metadata": {},
   "outputs": [],
   "source": [
    "NAME = \"Gómez Meza Jorge Ángel\"\n",
    "COLLABORATORS = \"\""
   ]
  },
  {
   "cell_type": "markdown",
   "metadata": {},
   "source": [
    "---"
   ]
  },
  {
   "cell_type": "markdown",
   "metadata": {
    "deletable": false,
    "editable": false,
    "id": "cGBM9Q7SgG6h",
    "nbgrader": {
     "cell_type": "markdown",
     "checksum": "63b6e1e5d097322ab85d420b4ab815ec",
     "grade": false,
     "grade_id": "cell-48d2562e1c4558c2",
     "locked": true,
     "schema_version": 3,
     "solution": false,
     "task": false
    }
   },
   "source": [
    "<div class=\"alert alert-success\">\n",
    "\n",
    "# Objetivos\n",
    "\n",
    "El propósito de este ejercicio es que  compares el rendimiento de diversos algoritmos de agrupamiento"
   ]
  },
  {
   "cell_type": "code",
   "execution_count": 39,
   "metadata": {
    "deletable": false,
    "editable": false,
    "id": "DgV9_hmeFGuZ",
    "nbgrader": {
     "cell_type": "code",
     "checksum": "409363de4163ca5ee1f015b792fea654",
     "grade": false,
     "grade_id": "cell-b16db0d841673289",
     "locked": true,
     "schema_version": 3,
     "solution": false,
     "task": false
    }
   },
   "outputs": [],
   "source": [
    "# Bibliotecas básicas a utilizar\n",
    "import pandas as pd\n",
    "import numpy as np\n",
    "import matplotlib.pyplot as plt\n",
    "from macti.eval import *"
   ]
  },
  {
   "cell_type": "code",
   "execution_count": 40,
   "metadata": {
    "deletable": false,
    "editable": false,
    "nbgrader": {
     "cell_type": "code",
     "checksum": "92c90afbd7dccc5c68b3db6c3d800ad3",
     "grade": false,
     "grade_id": "cell-f5d90a732085fcdc",
     "locked": true,
     "schema_version": 3,
     "solution": false,
     "task": false
    }
   },
   "outputs": [],
   "source": [
    "quiz = Quiz('1','mdp')"
   ]
  },
  {
   "cell_type": "code",
   "execution_count": 41,
   "metadata": {
    "colab": {
     "base_uri": "https://localhost:8080/"
    },
    "deletable": false,
    "editable": false,
    "id": "4BURHTqzrIxU",
    "nbgrader": {
     "cell_type": "code",
     "checksum": "1ea831cef86f4490f231e681ff3b976e",
     "grade": false,
     "grade_id": "cell-15bac71dcdccdf06",
     "locked": true,
     "schema_version": 3,
     "solution": false,
     "task": false
    },
    "outputId": "fc8b8a6d-ce35-4559-b845-a195a4852026"
   },
   "outputs": [
    {
     "data": {
      "text/plain": [
       "((150, 4),\n",
       " array([0, 1, 2]),\n",
       " array(['setosa', 'versicolor', 'virginica'], dtype='<U10'),\n",
       " ['sepal length (cm)',\n",
       "  'sepal width (cm)',\n",
       "  'petal length (cm)',\n",
       "  'petal width (cm)'])"
      ]
     },
     "execution_count": 41,
     "metadata": {},
     "output_type": "execute_result"
    }
   ],
   "source": [
    "# Conjunto de datos Iris\n",
    "from sklearn.datasets import load_iris\n",
    "iris = load_iris()\n",
    "iris.data.shape, np.unique(iris.target), iris.target_names, iris.feature_names"
   ]
  },
  {
   "cell_type": "code",
   "execution_count": 42,
   "metadata": {
    "deletable": false,
    "editable": false,
    "id": "g2-Y1ofEtJ78",
    "nbgrader": {
     "cell_type": "code",
     "checksum": "a87ead2d59b983d62e2707bf375e8faf",
     "grade": false,
     "grade_id": "cell-8dc9bf3b7322c3d7",
     "locked": true,
     "schema_version": 3,
     "solution": false,
     "task": false
    }
   },
   "outputs": [],
   "source": [
    "# Conservamos solamente las tres primeras columnas\n",
    "datos = iris.data[:,:3]"
   ]
  },
  {
   "cell_type": "code",
   "execution_count": 43,
   "metadata": {
    "deletable": false,
    "id": "pT-ot3Ee1d3b",
    "nbgrader": {
     "cell_type": "code",
     "checksum": "5742aa1e407c4bf34324c65c8bca3e77",
     "grade": false,
     "grade_id": "cell-b7977aaeef0dd5f5",
     "locked": false,
     "schema_version": 3,
     "solution": true,
     "task": false
    }
   },
   "outputs": [
    {
     "name": "stdout",
     "output_type": "stream",
     "text": [
      "<class 'numpy.ndarray'>\n",
      "['sepal length (cm)', 'sepal width (cm)', 'petal length (cm)']\n"
     ]
    },
    {
     "data": {
      "text/html": [
       "<div>\n",
       "<style scoped>\n",
       "    .dataframe tbody tr th:only-of-type {\n",
       "        vertical-align: middle;\n",
       "    }\n",
       "\n",
       "    .dataframe tbody tr th {\n",
       "        vertical-align: top;\n",
       "    }\n",
       "\n",
       "    .dataframe thead th {\n",
       "        text-align: right;\n",
       "    }\n",
       "</style>\n",
       "<table border=\"1\" class=\"dataframe\">\n",
       "  <thead>\n",
       "    <tr style=\"text-align: right;\">\n",
       "      <th></th>\n",
       "      <th>sepal length (cm)</th>\n",
       "      <th>sepal width (cm)</th>\n",
       "      <th>petal length (cm)</th>\n",
       "    </tr>\n",
       "  </thead>\n",
       "  <tbody>\n",
       "    <tr>\n",
       "      <th>0</th>\n",
       "      <td>0.804172</td>\n",
       "      <td>0.551883</td>\n",
       "      <td>0.220753</td>\n",
       "    </tr>\n",
       "    <tr>\n",
       "      <th>1</th>\n",
       "      <td>0.828606</td>\n",
       "      <td>0.507310</td>\n",
       "      <td>0.236745</td>\n",
       "    </tr>\n",
       "    <tr>\n",
       "      <th>2</th>\n",
       "      <td>0.805806</td>\n",
       "      <td>0.548634</td>\n",
       "      <td>0.222883</td>\n",
       "    </tr>\n",
       "    <tr>\n",
       "      <th>3</th>\n",
       "      <td>0.800515</td>\n",
       "      <td>0.539477</td>\n",
       "      <td>0.261037</td>\n",
       "    </tr>\n",
       "    <tr>\n",
       "      <th>4</th>\n",
       "      <td>0.791361</td>\n",
       "      <td>0.569780</td>\n",
       "      <td>0.221581</td>\n",
       "    </tr>\n",
       "  </tbody>\n",
       "</table>\n",
       "</div>"
      ],
      "text/plain": [
       "   sepal length (cm)  sepal width (cm)  petal length (cm)\n",
       "0           0.804172          0.551883           0.220753\n",
       "1           0.828606          0.507310           0.236745\n",
       "2           0.805806          0.548634           0.222883\n",
       "3           0.800515          0.539477           0.261037\n",
       "4           0.791361          0.569780           0.221581"
      ]
     },
     "execution_count": 43,
     "metadata": {},
     "output_type": "execute_result"
    }
   ],
   "source": [
    "from sklearn.preprocessing import normalize\n",
    "#print(datos)\n",
    "# Aplica \"normalize\" al conjunto de datos\n",
    "#from sklearn...\n",
    "#datos = \n",
    "\n",
    "print(type(datos))\n",
    "data_scaled = normalize(datos)\n",
    "data_scaled=pd.DataFrame(data_scaled,columns=iris.feature_names[:3])\n",
    "\n",
    "print (iris.feature_names[:3])\n",
    "data_scaled.head()\n",
    "\n",
    "\n"
   ]
  },
  {
   "cell_type": "code",
   "execution_count": 44,
   "metadata": {},
   "outputs": [],
   "source": [
    "#!pip install yellowbrick"
   ]
  },
  {
   "cell_type": "code",
   "execution_count": 45,
   "metadata": {
    "colab": {
     "base_uri": "https://localhost:8080/",
     "height": 424
    },
    "deletable": false,
    "id": "YxGqUOJzrIqO",
    "nbgrader": {
     "cell_type": "code",
     "checksum": "1b36c9b161512b160921dbbd3726b015",
     "grade": false,
     "grade_id": "cell-11ce527207308f15",
     "locked": false,
     "schema_version": 3,
     "solution": true,
     "task": false
    },
    "outputId": "5026f3c0-520e-4ce0-cee5-d6ca5feca501"
   },
   "outputs": [
    {
     "data": {
      "image/png": "[encoded data removed]",
      "text/plain": [
       "<Figure size 640x320 with 1 Axes>"
      ]
     },
     "metadata": {},
     "output_type": "display_data"
    }
   ],
   "source": [
    "# Obtén la recomendación respecto al número de grupos con la gráfica del codo\n",
    "# Con el valor 42 para el parámetro de replicabilidad y valores de k=(2,8)\n",
    "# Instalar yellowbrick, de ser necesario descomenta la siguiente línea\n",
    "#!pip install yellowbrick\n",
    "from sklearn.cluster import KMeans\n",
    "from sklearn.datasets import make_blobs\n",
    "from yellowbrick.cluster import KElbowVisualizer\n",
    "plt.figure(figsize=(8, 4))\n",
    "\n",
    "vis = KElbowVisualizer(KMeans(random_state=42), k=(2,8), timings=False)\n",
    "vis.fit(data_scaled)\n",
    "plt.xlabel('Número de grupos')\n",
    "plt.ylabel('Distorsión')\n",
    "plt.show()\n",
    "\n",
    "#vis = KElbowVisualizer(...)\n",
    "#vis.fit(datos)\n",
    "# YOUR CODE HERE\n",
    "#raise NotImplementedError()\n",
    "#plt.xlabel('Número de grupos')\n",
    "#plt.ylabel('Distorsión')\n",
    "#plt.show()"
   ]
  },
  {
   "cell_type": "code",
   "execution_count": 46,
   "metadata": {
    "colab": {
     "base_uri": "https://localhost:8080/",
     "height": 404
    },
    "deletable": false,
    "id": "80S6XCR9rInc",
    "nbgrader": {
     "cell_type": "code",
     "checksum": "95e772f713e09964d6a2d314238a0739",
     "grade": false,
     "grade_id": "cell-9d44464451db1f30",
     "locked": false,
     "schema_version": 3,
     "solution": true,
     "task": false
    },
    "outputId": "f2ae8dfe-6538-457c-a9c2-1077ee4e5816"
   },
   "outputs": [
    {
     "data": {
      "image/png": "[encoded data removed]",
      "text/plain": [
       "<Figure size 640x320 with 1 Axes>"
      ]
     },
     "metadata": {},
     "output_type": "display_data"
    }
   ],
   "source": [
    "# Obtén la recomendación respecto al número de grupos con el dendrograma\n",
    "import scipy.cluster.hierarchy as sch\n",
    "plt.figure(figsize=(8, 4))\n",
    "plt.title(\"Dendrograma\")\n",
    "\n",
    "\n",
    "dend = sch.dendrogram(sch.linkage(data_scaled,method='ward'))\n",
    "#dend = shc.dendrogram(...)\n",
    "# YOUR CODE HERE\n",
    "#raise NotImplementedError()"
   ]
  },
  {
   "cell_type": "code",
   "execution_count": 47,
   "metadata": {
    "colab": {
     "base_uri": "https://localhost:8080/",
     "height": 521
    },
    "deletable": false,
    "id": "uh_H6kcZrIkf",
    "nbgrader": {
     "cell_type": "code",
     "checksum": "a16fb16aecf6032f2124bfd30c2101d1",
     "grade": false,
     "grade_id": "cell-addbd07af506b745",
     "locked": false,
     "schema_version": 3,
     "solution": true,
     "task": false
    },
    "outputId": "94dba686-0b6f-46f4-f0f1-a4979479dc11"
   },
   "outputs": [
    {
     "data": {
      "image/png": "[encoded data removed]",
      "text/plain": [
       "<Figure size 640x440 with 1 Axes>"
      ]
     },
     "metadata": {},
     "output_type": "display_data"
    }
   ],
   "source": [
    "# Obtén la recomendación respecto al número de grupos con los criterios\n",
    "# AIC y BIC con valores del número de grupos (1,8) y 42 para replicabilidad\n",
    "from sklearn.mixture import GaussianMixture\n",
    "\n",
    "n_clusters = np.arange(1, 21)\n",
    "models = [GaussianMixture(n,covariance_type='full',random_state=0).fit(data_scaled) for n in n_clusters]\n",
    "plt.plot(n_clusters, [m.bic(data_scaled) for m in models], label='BIC')\n",
    "plt.plot(n_clusters, [m.aic(data_scaled) for m in models], label='AIC')\n",
    "plt.legend(loc='best')\n",
    "plt.xlabel('n_clusters')\n",
    "plt.show()\n",
    "#n_clusters = \n",
    "#models = []\n",
    "#plt.plot(n_clusters, [], label='BIC')\n",
    "#plt.plot(n_clusters, [], label='AIC')\n",
    "# YOUR CODE HERE\n",
    "#raise NotImplementedError()\n",
    "#plt.legend(loc='best')\n",
    "#plt.xlabel('n_clusters')"
   ]
  },
  {
   "cell_type": "code",
   "execution_count": 48,
   "metadata": {
    "colab": {
     "base_uri": "https://localhost:8080/"
    },
    "deletable": false,
    "id": "kxTPo35m0ffQ",
    "nbgrader": {
     "cell_type": "code",
     "checksum": "b9aa6ca2312a46faeae8a3d14b7826e1",
     "grade": false,
     "grade_id": "cell-b84ae586bf46172b",
     "locked": false,
     "schema_version": 3,
     "solution": true,
     "task": false
    },
    "outputId": "aa1fb2de-c5a2-42bd-bbd4-3046c4184984"
   },
   "outputs": [
    {
     "name": "stdout",
     "output_type": "stream",
     "text": [
      "3\n"
     ]
    }
   ],
   "source": [
    "# De acuerdo a tus resultados, indica el número de grupos a obtener\n",
    "# YOUR CODE HERE\n",
    "#raise NotImplementedError()\n",
    "num_grupos =3\n",
    "print(num_grupos)"
   ]
  },
  {
   "cell_type": "code",
   "execution_count": 49,
   "metadata": {
    "deletable": false,
    "editable": false,
    "nbgrader": {
     "cell_type": "code",
     "checksum": "7daeae06dbf8c5c3ab97b766af3ccac5",
     "grade": true,
     "grade_id": "cell-6a3b69d56005bb05",
     "locked": true,
     "points": 1,
     "schema_version": 3,
     "solution": false,
     "task": false
    }
   },
   "outputs": [
    {
     "name": "stdout",
     "output_type": "stream",
     "text": [
      "\u001b[39m――――――――――――――――――――――――――――――――――――――――\n",
      "\u001b[32m1 | Tu resultado es correcto.\n",
      "\u001b[39m――――――――――――――――――――――――――――――――――――――――\n"
     ]
    }
   ],
   "source": [
    "quiz.eval_numeric('1', num_grupos)"
   ]
  },
  {
   "cell_type": "code",
   "execution_count": 50,
   "metadata": {
    "colab": {
     "base_uri": "https://localhost:8080/"
    },
    "deletable": false,
    "id": "xf-GN-420fcf",
    "nbgrader": {
     "cell_type": "code",
     "checksum": "6a8dc1d3231f96f0fcb31528f71cfc29",
     "grade": false,
     "grade_id": "cell-d3352b5fca6932b7",
     "locked": false,
     "schema_version": 3,
     "solution": true,
     "task": false
    },
    "outputId": "5e82f5a9-d49d-4917-d5c9-c0635d4ae31c"
   },
   "outputs": [
    {
     "name": "stdout",
     "output_type": "stream",
     "text": [
      "Silhouette Score: 0.5850557063166895\n",
      "0.585056\n"
     ]
    }
   ],
   "source": [
    "# Agrupa con k-medias y el número de grupos que indicaste, 42 para replicabilidad\n",
    "# y obtén el valor de la métrica silhouette con el mismo valor para replicabilidad\n",
    "from sklearn.cluster import KMeans\n",
    "from sklearn.metrics import silhouette_score\n",
    "#km = KMeans(...)\n",
    "kmeans = KMeans(n_clusters=num_grupos, random_state=42)\n",
    "\n",
    "# Fit the model and predict labels\n",
    "labels = kmeans.fit_predict(data_scaled)\n",
    "\n",
    "\n",
    "\n",
    "# Calculate the Silhouette Score\n",
    "#score = silhouette_score(X, labels)\n",
    "#print(\"Silhouette Score:\", score)\n",
    "# Calculate the Silhouette Score\n",
    "silhouette_km = silhouette_score(data_scaled, labels)\n",
    "\n",
    "#score = silhouette_score(data_scaled, labels)\n",
    "print(\"Silhouette Score:\", silhouette_km)\n",
    "#silhouette_km = silhouette_score(...)\n",
    "silhouette_km = np.round(silhouette_km, decimals=6) # redondea a 6 decimales, NO lo modifiques\n",
    "# YOUR CODE HERE\n",
    "#raise NotImplementedError()\n",
    "print(silhouette_km)"
   ]
  },
  {
   "cell_type": "code",
   "execution_count": 51,
   "metadata": {
    "deletable": false,
    "editable": false,
    "nbgrader": {
     "cell_type": "code",
     "checksum": "a520b586a0bd0cf1ed012cb996131c39",
     "grade": true,
     "grade_id": "cell-ed7cbbb7a6684143",
     "locked": true,
     "points": 3,
     "schema_version": 3,
     "solution": false,
     "task": false
    }
   },
   "outputs": [
    {
     "name": "stdout",
     "output_type": "stream",
     "text": [
      "\u001b[39m――――――――――――――――――――――――――――――――――――――――\n",
      "\u001b[32m2 | Tu resultado es correcto.\n",
      "\u001b[39m――――――――――――――――――――――――――――――――――――――――\n"
     ]
    }
   ],
   "source": [
    "quiz.eval_numeric('2', silhouette_km)"
   ]
  },
  {
   "cell_type": "code",
   "execution_count": 82,
   "metadata": {
    "colab": {
     "base_uri": "https://localhost:8080/"
    },
    "deletable": false,
    "id": "aSzyvDsi0fWY",
    "nbgrader": {
     "cell_type": "code",
     "checksum": "0f73f1dab0e8bf5cc0cde0ce777b0ee9",
     "grade": false,
     "grade_id": "cell-ebb904cd1eeeae93",
     "locked": false,
     "schema_version": 3,
     "solution": true,
     "task": false
    },
    "outputId": "4748cbaa-2e2f-449c-9459-b0082f40bda3"
   },
   "outputs": [
    {
     "name": "stdout",
     "output_type": "stream",
     "text": [
      "0.564169\n"
     ]
    }
   ],
   "source": [
    "# Aplica agrupamiento aglomerativo con el número de grupos que indicaste\n",
    "# y obtén el valor de la métrica silhouette con el valor 42 para replicabilidad\n",
    "from sklearn.cluster import AgglomerativeClustering\n",
    "#ac = AgglomerativeClustering(...)\n",
    "ac = AgglomerativeClustering(n_clusters=num_grupos,metric='euclidean',linkage='ward')\n",
    "labels=ac.fit_predict(data_scaled)\n",
    "#silhouette_ac = silhouette_score(...)\n",
    "silhouette_ac = silhouette_score(data_scaled, labels, random_state=42)\n",
    "\n",
    "silhouette_ac = np.round(silhouette_ac, decimals=6) # redondea a 6 decimales, NO lo modifiques\n",
    "# YOUR CODE HERE\n",
    "\n",
    "print(silhouette_ac)"
   ]
  },
  {
   "cell_type": "code",
   "execution_count": 83,
   "metadata": {
    "deletable": false,
    "editable": false,
    "nbgrader": {
     "cell_type": "code",
     "checksum": "ca856244a7631ed9b4ae6cba52b13cc3",
     "grade": true,
     "grade_id": "cell-61706be984b8cb1c",
     "locked": true,
     "points": 3,
     "schema_version": 3,
     "solution": false,
     "task": false
    }
   },
   "outputs": [
    {
     "name": "stdout",
     "output_type": "stream",
     "text": [
      "\u001b[39m――――――――――――――――――――――――――――――――――――――――\n",
      "\u001b[32m3 | Tu resultado es correcto.\n",
      "\u001b[39m――――――――――――――――――――――――――――――――――――――――\n"
     ]
    }
   ],
   "source": [
    "quiz.eval_numeric('3', silhouette_ac)"
   ]
  },
  {
   "cell_type": "code",
   "execution_count": 84,
   "metadata": {
    "colab": {
     "base_uri": "https://localhost:8080/"
    },
    "deletable": false,
    "id": "ACQtt0eKrIen",
    "nbgrader": {
     "cell_type": "code",
     "checksum": "a990619eed0e26d987f03c79244e2d48",
     "grade": false,
     "grade_id": "cell-fa4f5895f36c15f5",
     "locked": false,
     "schema_version": 3,
     "solution": true,
     "task": false
    },
    "outputId": "024fdace-3548-4b8c-b4b4-ad37c063cf91"
   },
   "outputs": [],
   "source": [
    "# Agrupa con GMM y el número de grupos que indicaste, 42 para replicabilidad\n",
    "# y obtén el valor de la métrica silhouette con el mismo valor para replicabilidad\n",
    "#gmm = GaussianMixture(...)\n",
    "gmm = GaussianMixture(n_components=num_grupos,random_state=42)\n",
    "#GaussianMixture(n,covariance_type='full',random_state=0)\n",
    "gmm.fit(data_scaled)\n",
    "labels = gmm.predict(data_scaled)\n",
    "#silhouette_gmm = silhouette_score(...)\n",
    "silhouette_gmm = silhouette_score(data_scaled, labels, random_state=42)\n",
    "silhouette_gmm = np.round(silhouette_gmm, decimals=6) \n",
    "#silhouette_gmm = np.round(silhouette_gmm, decimals=6) # redondea a 6 decimales, NO lo modifiques\n",
    "# YOUR CODE HERE\n",
    "#raise NotImplementedError()\n",
    " \n",
    "#print(silhouette_gmm)"
   ]
  },
  {
   "cell_type": "code",
   "execution_count": 85,
   "metadata": {
    "deletable": false,
    "editable": false,
    "id": "KKXQ_t_QK2qj",
    "nbgrader": {
     "cell_type": "code",
     "checksum": "ff56f9c9cae5de130b00a976fdc279ca",
     "grade": true,
     "grade_id": "cell-30e9167ed9d12980",
     "locked": true,
     "points": 3,
     "schema_version": 3,
     "solution": false,
     "task": false
    }
   },
   "outputs": [
    {
     "name": "stdout",
     "output_type": "stream",
     "text": [
      "\u001b[39m――――――――――――――――――――――――――――――――――――――――\n",
      "\u001b[32m4 | Tu resultado es correcto.\n",
      "\u001b[39m――――――――――――――――――――――――――――――――――――――――\n"
     ]
    }
   ],
   "source": [
    "quiz.eval_numeric('4', silhouette_gmm)"
   ]
  },
  {
   "cell_type": "code",
   "execution_count": null,
   "metadata": {},
   "outputs": [],
   "source": []
  },
  {
   "cell_type": "code",
   "execution_count": null,
   "metadata": {},
   "outputs": [],
   "source": []
  }
 ],
 "metadata": {
  "colab": {
   "provenance": []
  },
  "kernelspec": {
   "display_name": "Python 3 (ipykernel)",
   "language": "python",
   "name": "python3"
  },
  "language_info": {
   "codemirror_mode": {
    "name": "ipython",
    "version": 3
   },
   "file_extension": ".py",
   "mimetype": "text/x-python",
   "name": "python",
   "nbconvert_exporter": "python",
   "pygments_lexer": "ipython3",
   "version": "3.11.6"
  }
 },
 "nbformat": 4,
 "nbformat_minor": 4
}
