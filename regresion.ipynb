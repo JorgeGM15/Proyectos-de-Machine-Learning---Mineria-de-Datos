{
 "cells": [
  {
   "cell_type": "markdown",
   "metadata": {},
   "source": [
    "Before you turn this problem in, make sure everything runs as expected. First, **restart the kernel** (in the menubar, select Kernel $\\rightarrow$ Restart) and then **run all cells** (in the menubar, select Cell $\\rightarrow$ Run All).\n",
    "\n",
    "Make sure you fill in any place that says `YOUR CODE HERE` or \"YOUR ANSWER HERE\", as well as your name and collaborators below:"
   ]
  },
  {
   "cell_type": "code",
   "execution_count": 1,
   "metadata": {},
   "outputs": [],
   "source": [
    "NAME = \"Gómez Meza Jorge Angel\"\n",
    "COLLABORATORS = \"\"Irving Morgado Vinalay, Mauricio Morgado Castillo\"\""
   ]
  },
  {
   "cell_type": "markdown",
   "metadata": {},
   "source": [
    "---"
   ]
  },
  {
   "cell_type": "markdown",
   "metadata": {
    "deletable": false,
    "editable": false,
    "id": "BJ-Lnvu6MgWb",
    "nbgrader": {
     "cell_type": "markdown",
     "checksum": "230e17729a11da9117f3a00d7f2ef12b",
     "grade": false,
     "grade_id": "cell-ade10e3dbb966e44",
     "locked": true,
     "schema_version": 3,
     "solution": false,
     "task": false
    }
   },
   "source": [
    "<div class=\"alert alert-success\">\n",
    "\n",
    "# Objetivos\n",
    "\n",
    "El propósito de este ejercicio es comparar el rendimiento de diversos tipos de regresión"
   ]
  },
  {
   "cell_type": "code",
   "execution_count": 2,
   "metadata": {
    "deletable": false,
    "editable": false,
    "id": "JUK9yemZ1lcb",
    "nbgrader": {
     "cell_type": "code",
     "checksum": "ccd6f707c66f8fd1caf6be2b3fe7ff1d",
     "grade": false,
     "grade_id": "cell-0e32d64527f0b0f7",
     "locked": true,
     "schema_version": 3,
     "solution": false,
     "task": false
    }
   },
   "outputs": [],
   "source": [
    "# Bibliotecas bísicas a utilizar\n",
    "import numpy as np\n",
    "import pandas as pd\n",
    "import matplotlib.pyplot as plt\n",
    "from macti.eval import *"
   ]
  },
  {
   "cell_type": "code",
   "execution_count": 3,
   "metadata": {
    "deletable": false,
    "editable": false,
    "nbgrader": {
     "cell_type": "code",
     "checksum": "9969abb44b464aa3f25407457c08eb8a",
     "grade": false,
     "grade_id": "cell-ca826cccd0b37fac",
     "locked": true,
     "schema_version": 3,
     "solution": false,
     "task": false
    }
   },
   "outputs": [],
   "source": [
    "quiz = Quiz('1','mdp')"
   ]
  },
  {
   "cell_type": "code",
   "execution_count": 4,
   "metadata": {
    "colab": {
     "base_uri": "https://localhost:8080/"
    },
    "deletable": false,
    "editable": false,
    "id": "DWjpQFjGHDgh",
    "nbgrader": {
     "cell_type": "code",
     "checksum": "140b3b4a0d06509d3a63aa7f7612129a",
     "grade": false,
     "grade_id": "cell-9a74a4bc5a763790",
     "locked": true,
     "schema_version": 3,
     "solution": false,
     "task": false
    },
    "outputId": "cc8255c9-1e24-4817-db17-dec6031c59cd"
   },
   "outputs": [
    {
     "name": "stdout",
     "output_type": "stream",
     "text": [
      "(20640, 8) (20640,)\n"
     ]
    }
   ],
   "source": [
    "# Conjunto de datos: precio de viviendas en California\n",
    "from sklearn.datasets import fetch_california_housing\n",
    "datos = fetch_california_housing()\n",
    "print(datos.data.shape, datos.target.shape)"
   ]
  },
  {
   "cell_type": "code",
   "execution_count": 5,
   "metadata": {
    "colab": {
     "base_uri": "https://localhost:8080/"
    },
    "deletable": false,
    "editable": false,
    "id": "ukWCOOk1H4wJ",
    "nbgrader": {
     "cell_type": "code",
     "checksum": "64ce0a564bf94462d17685543ddb2bb6",
     "grade": false,
     "grade_id": "cell-bbfb3a247875814f",
     "locked": true,
     "schema_version": 3,
     "solution": false,
     "task": false
    },
    "outputId": "458ea705-c87b-4a95-b711-647f4f96ffb1"
   },
   "outputs": [
    {
     "name": "stdout",
     "output_type": "stream",
     "text": [
      ".. _california_housing_dataset:\n",
      "\n",
      "California Housing dataset\n",
      "--------------------------\n",
      "\n",
      "**Data Set Characteristics:**\n",
      "\n",
      ":Number of Instances: 20640\n",
      "\n",
      ":Number of Attributes: 8 numeric, predictive attributes and the target\n",
      "\n",
      ":Attribute Information:\n",
      "    - MedInc        median income in block group\n",
      "    - HouseAge      median house age in block group\n",
      "    - AveRooms      average number of rooms per household\n",
      "    - AveBedrms     average number of bedrooms per household\n",
      "    - Population    block group population\n",
      "    - AveOccup      average number of household members\n",
      "    - Latitude      block group latitude\n",
      "    - Longitude     block group longitude\n",
      "\n",
      ":Missing Attribute Values: None\n",
      "\n",
      "This dataset was obtained from the StatLib repository.\n",
      "https://www.dcc.fc.up.pt/~ltorgo/Regression/cal_housing.html\n",
      "\n",
      "The target variable is the median house value for California districts,\n",
      "expressed in hundreds of thousands of dollars ($100,000).\n",
      "\n",
      "This dataset was derived from the 1990 U.S. census, using one row per census\n",
      "block group. A block group is the smallest geographical unit for which the U.S.\n",
      "Census Bureau publishes sample data (a block group typically has a population\n",
      "of 600 to 3,000 people).\n",
      "\n",
      "A household is a group of people residing within a home. Since the average\n",
      "number of rooms and bedrooms in this dataset are provided per household, these\n",
      "columns may take surprisingly large values for block groups with few households\n",
      "and many empty houses, such as vacation resorts.\n",
      "\n",
      "It can be downloaded/loaded using the\n",
      ":func:`sklearn.datasets.fetch_california_housing` function.\n",
      "\n",
      ".. rubric:: References\n",
      "\n",
      "- Pace, R. Kelley and Ronald Barry, Sparse Spatial Autoregressions,\n",
      "  Statistics and Probability Letters, 33 (1997) 291-297\n",
      "\n"
     ]
    }
   ],
   "source": [
    "print(datos.DESCR)"
   ]
  },
  {
   "cell_type": "code",
   "execution_count": 98,
   "metadata": {
    "colab": {
     "base_uri": "https://localhost:8080/"
    },
    "deletable": false,
    "id": "aUpLKmrQ0x3V",
    "nbgrader": {
     "cell_type": "code",
     "checksum": "cff76898ae0746d8a98d785560bd26d2",
     "grade": false,
     "grade_id": "cell-fc8f36c06166013c",
     "locked": false,
     "schema_version": 3,
     "solution": true,
     "task": false
    },
    "outputId": "cfe6e443-21d6-4574-b189-86617246d467"
   },
   "outputs": [
    {
     "name": "stdout",
     "output_type": "stream",
     "text": [
      "20640\n",
      "5\n"
     ]
    }
   ],
   "source": [
    "# Guarda en \"X\" los vectores predictores sin Latitude, Longitude ni AveOccup\n",
    "# En \"y\" la variable objetivo\n",
    "import numpy as np\n",
    "\n",
    "# las 8 características originales son:\n",
    "# [MedInc, HouseAge, AveRooms, AveBedrms, Population, AveOccup, Latitude, Longitude]\n",
    "# excluimos los índices 5, 6 y 7\n",
    "X = datos.data[:, [0,1,2,3,4]]\n",
    "y = datos.target\n",
    "\n",
    "# imprime filas y columnas de X\n",
    "filas, columnas = X.shape\n",
    "print(filas)\n",
    "print(columnas)\n"
   ]
  },
  {
   "cell_type": "code",
   "execution_count": 99,
   "metadata": {
    "deletable": false,
    "editable": false,
    "nbgrader": {
     "cell_type": "code",
     "checksum": "561040e41ceb014bbb77dbcd7fc005b2",
     "grade": true,
     "grade_id": "cell-a02d5c20e7a6dd75",
     "locked": true,
     "points": 1,
     "schema_version": 3,
     "solution": false,
     "task": false
    }
   },
   "outputs": [
    {
     "name": "stdout",
     "output_type": "stream",
     "text": [
      "\u001b[39m――――――――――――――――――――――――――――――――――――――――\n",
      "\u001b[32m1 | Tu resultado es correcto.\n",
      "\u001b[39m――――――――――――――――――――――――――――――――――――――――\n"
     ]
    }
   ],
   "source": [
    "quiz.eval_numeric('1', filas)"
   ]
  },
  {
   "cell_type": "code",
   "execution_count": 100,
   "metadata": {
    "deletable": false,
    "editable": false,
    "nbgrader": {
     "cell_type": "code",
     "checksum": "beb8f8f5926f42d35c0884749103f822",
     "grade": true,
     "grade_id": "cell-3f74832b8360cbcb",
     "locked": true,
     "points": 1,
     "schema_version": 3,
     "solution": false,
     "task": false
    }
   },
   "outputs": [
    {
     "name": "stdout",
     "output_type": "stream",
     "text": [
      "\u001b[39m――――――――――――――――――――――――――――――――――――――――\n",
      "\u001b[32m2 | Tu resultado es correcto.\n",
      "\u001b[39m――――――――――――――――――――――――――――――――――――――――\n"
     ]
    }
   ],
   "source": [
    "quiz.eval_numeric('2', columnas)"
   ]
  },
  {
   "cell_type": "code",
   "execution_count": 111,
   "metadata": {
    "colab": {
     "base_uri": "https://localhost:8080/"
    },
    "deletable": false,
    "id": "FTIGx4jU0xzQ",
    "nbgrader": {
     "cell_type": "code",
     "checksum": "9d9126650a1ced6ade9679db1cf51ce2",
     "grade": false,
     "grade_id": "cell-52b62a6584e2b5df",
     "locked": false,
     "schema_version": 3,
     "solution": true,
     "task": false
    },
    "outputId": "f32e52e1-29b1-4ef2-cef0-9d300afe356c"
   },
   "outputs": [
    {
     "name": "stdout",
     "output_type": "stream",
     "text": [
      "14448\n",
      "6192\n"
     ]
    }
   ],
   "source": [
    "# Separa en conjuntos de entrenamiento y pruebas con 30% de datos para pruebas\n",
    "# y 42 para replicabilidad, imprime el número de filas de entrenamiento y pruebas\n",
    "from sklearn.model_selection import train_test_split\n",
    "\n",
    "X_train, X_test, y_train, y_test = train_test_split(\n",
    "    X, y, test_size=0.3, random_state=42\n",
    ")\n",
    "\n",
    "filas_train = X_train.shape[0]\n",
    "filas_test  = X_test.shape[0]\n",
    "print(filas_train)\n",
    "print(filas_test)\n"
   ]
  },
  {
   "cell_type": "code",
   "execution_count": 112,
   "metadata": {
    "deletable": false,
    "editable": false,
    "nbgrader": {
     "cell_type": "code",
     "checksum": "aaac524d42b02b28b15a73dd0689e1ec",
     "grade": true,
     "grade_id": "cell-c3a116951e2ee86e",
     "locked": true,
     "points": 1,
     "schema_version": 3,
     "solution": false,
     "task": false
    }
   },
   "outputs": [
    {
     "name": "stdout",
     "output_type": "stream",
     "text": [
      "\u001b[39m――――――――――――――――――――――――――――――――――――――――\n",
      "\u001b[32m3 | Tu resultado es correcto.\n",
      "\u001b[39m――――――――――――――――――――――――――――――――――――――――\n"
     ]
    }
   ],
   "source": [
    "quiz.eval_numeric('3', filas_train)"
   ]
  },
  {
   "cell_type": "code",
   "execution_count": 113,
   "metadata": {
    "deletable": false,
    "editable": false,
    "nbgrader": {
     "cell_type": "code",
     "checksum": "b9d6f96fd4397dc35301b2384a2798d9",
     "grade": true,
     "grade_id": "cell-2f81c0a87a69804e",
     "locked": true,
     "points": 1,
     "schema_version": 3,
     "solution": false,
     "task": false
    }
   },
   "outputs": [
    {
     "name": "stdout",
     "output_type": "stream",
     "text": [
      "\u001b[39m――――――――――――――――――――――――――――――――――――――――\n",
      "\u001b[32m4 | Tu resultado es correcto.\n",
      "\u001b[39m――――――――――――――――――――――――――――――――――――――――\n"
     ]
    }
   ],
   "source": [
    "quiz.eval_numeric('4', filas_test)"
   ]
  },
  {
   "cell_type": "code",
   "execution_count": 104,
   "metadata": {
    "colab": {
     "base_uri": "https://localhost:8080/"
    },
    "deletable": false,
    "id": "cmty-gUE0xwC",
    "nbgrader": {
     "cell_type": "code",
     "checksum": "0ec14a3161b45a6012ebf34fb0ece080",
     "grade": false,
     "grade_id": "cell-a8c06b57d53a23f9",
     "locked": false,
     "schema_version": 3,
     "solution": true,
     "task": false
    },
    "outputId": "ebbbc5be-a5e8-4ef9-dd36-fa63ba09498c"
   },
   "outputs": [
    {
     "name": "stdout",
     "output_type": "stream",
     "text": [
      "0.540023\n",
      "0.785003\n",
      "0.529355\n",
      "0.785965\n"
     ]
    }
   ],
   "source": [
    "# Aplica regresión lineal al conjunto y muestra el valor de R2 y RMSE sobre los\n",
    "# conjuntos de entrenamiento y pruebas redondeados a 6 cifras decimales\n",
    "from sklearn.linear_model import LinearRegression\n",
    "from sklearn.metrics import r2_score, mean_squared_error\n",
    "import numpy as np\n",
    "\n",
    "lr = LinearRegression()\n",
    "lr.fit(X_train, y_train)\n",
    "\n",
    "# predicciones\n",
    "y_train_pred = lr.predict(X_train)\n",
    "y_test_pred  = lr.predict(X_test)\n",
    "\n",
    "# métricas (RMSE = sqrt(MSE))\n",
    "r2_train_lr = r2_score(y_train, y_train_pred)\n",
    "mse_train_lr = np.sqrt(mean_squared_error(y_train, y_train_pred))\n",
    "r2_test_lr  = r2_score(y_test, y_test_pred)\n",
    "mse_test_lr = np.sqrt(mean_squared_error(y_test, y_test_pred))\n",
    "\n",
    "# redondear a 6 decimales\n",
    "print(round(r2_train_lr, 6))\n",
    "print(round(mse_train_lr,  6))\n",
    "print(round(r2_test_lr,  6))\n",
    "print(round(mse_test_lr, 6))\n"
   ]
  },
  {
   "cell_type": "code",
   "execution_count": 105,
   "metadata": {
    "deletable": false,
    "editable": false,
    "nbgrader": {
     "cell_type": "code",
     "checksum": "4cb242acecede6cd13f5ba47225edda6",
     "grade": true,
     "grade_id": "cell-10937641d49404c0",
     "locked": true,
     "points": 2,
     "schema_version": 3,
     "solution": false,
     "task": false
    }
   },
   "outputs": [
    {
     "name": "stdout",
     "output_type": "stream",
     "text": [
      "\u001b[39m――――――――――――――――――――――――――――――――――――――――\n",
      "\u001b[31m5 | Ocurrió un error en tus cálculos.\n",
      "\u001b[39m――――――――――――――――――――――――――――――――――――――――\n",
      "\u001b[31mHint: \n",
      "\u001b[39m――――――――――――――――――――――――――――――――――――――――\n"
     ]
    },
    {
     "ename": "AssertionError",
     "evalue": "",
     "output_type": "error",
     "traceback": [
      "\u001b[0;31m---------------------------------------------------------------------------\u001b[0m",
      "\u001b[0;31mAssertionError\u001b[0m                            Traceback (most recent call last)",
      "Cell \u001b[0;32mIn[105], line 1\u001b[0m\n\u001b[0;32m----> 1\u001b[0m \u001b[43mquiz\u001b[49m\u001b[38;5;241;43m.\u001b[39;49m\u001b[43meval_numeric\u001b[49m\u001b[43m(\u001b[49m\u001b[38;5;124;43m'\u001b[39;49m\u001b[38;5;124;43m5\u001b[39;49m\u001b[38;5;124;43m'\u001b[39;49m\u001b[43m,\u001b[49m\u001b[43m \u001b[49m\u001b[43mr2_train_lr\u001b[49m\u001b[43m)\u001b[49m\n",
      "File \u001b[0;32m/opt/conda/lib/python3.11/site-packages/macti/eval/evaluation.py:584\u001b[0m, in \u001b[0;36mQuiz.eval_numeric\u001b[0;34m(self, enum, ans)\u001b[0m\n\u001b[1;32m    581\u001b[0m     \u001b[38;5;28mself\u001b[39m\u001b[38;5;241m.\u001b[39m__print_error_hint(enum, msg\u001b[38;5;241m=\u001b[39mmsg, info\u001b[38;5;241m=\u001b[39minfo)\n\u001b[1;32m    583\u001b[0m     \u001b[38;5;66;03m# Se lanza la excepción para que sea detectada por NBGrader\u001b[39;00m\n\u001b[0;32m--> 584\u001b[0m     \u001b[38;5;28;01mraise\u001b[39;00m \u001b[38;5;167;01mAssertionError\u001b[39;00m \u001b[38;5;28;01mfrom\u001b[39;00m \u001b[38;5;28;01mNone\u001b[39;00m\n\u001b[1;32m    586\u001b[0m \u001b[38;5;28;01melse\u001b[39;00m:\n\u001b[1;32m    587\u001b[0m     \u001b[38;5;28mself\u001b[39m\u001b[38;5;241m.\u001b[39m__print_correct(enum)\n",
      "\u001b[0;31mAssertionError\u001b[0m: "
     ]
    }
   ],
   "source": [
    "quiz.eval_numeric('5', r2_train_lr)"
   ]
  },
  {
   "cell_type": "code",
   "execution_count": 106,
   "metadata": {
    "deletable": false,
    "editable": false,
    "nbgrader": {
     "cell_type": "code",
     "checksum": "079722da07b89a723aa4b101b838ff4a",
     "grade": true,
     "grade_id": "cell-dd501983d7e1a3c8",
     "locked": true,
     "points": 2,
     "schema_version": 3,
     "solution": false,
     "task": false
    }
   },
   "outputs": [
    {
     "name": "stdout",
     "output_type": "stream",
     "text": [
      "\u001b[39m――――――――――――――――――――――――――――――――――――――――\n",
      "\u001b[31m6 | Ocurrió un error en tus cálculos.\n",
      "\u001b[39m――――――――――――――――――――――――――――――――――――――――\n",
      "\u001b[31mHint: \n",
      "\u001b[39m――――――――――――――――――――――――――――――――――――――――\n"
     ]
    },
    {
     "ename": "AssertionError",
     "evalue": "",
     "output_type": "error",
     "traceback": [
      "\u001b[0;31m---------------------------------------------------------------------------\u001b[0m",
      "\u001b[0;31mAssertionError\u001b[0m                            Traceback (most recent call last)",
      "Cell \u001b[0;32mIn[106], line 1\u001b[0m\n\u001b[0;32m----> 1\u001b[0m \u001b[43mquiz\u001b[49m\u001b[38;5;241;43m.\u001b[39;49m\u001b[43meval_numeric\u001b[49m\u001b[43m(\u001b[49m\u001b[38;5;124;43m'\u001b[39;49m\u001b[38;5;124;43m6\u001b[39;49m\u001b[38;5;124;43m'\u001b[39;49m\u001b[43m,\u001b[49m\u001b[43m \u001b[49m\u001b[43mmse_train_lr\u001b[49m\u001b[43m)\u001b[49m\n",
      "File \u001b[0;32m/opt/conda/lib/python3.11/site-packages/macti/eval/evaluation.py:584\u001b[0m, in \u001b[0;36mQuiz.eval_numeric\u001b[0;34m(self, enum, ans)\u001b[0m\n\u001b[1;32m    581\u001b[0m     \u001b[38;5;28mself\u001b[39m\u001b[38;5;241m.\u001b[39m__print_error_hint(enum, msg\u001b[38;5;241m=\u001b[39mmsg, info\u001b[38;5;241m=\u001b[39minfo)\n\u001b[1;32m    583\u001b[0m     \u001b[38;5;66;03m# Se lanza la excepción para que sea detectada por NBGrader\u001b[39;00m\n\u001b[0;32m--> 584\u001b[0m     \u001b[38;5;28;01mraise\u001b[39;00m \u001b[38;5;167;01mAssertionError\u001b[39;00m \u001b[38;5;28;01mfrom\u001b[39;00m \u001b[38;5;28;01mNone\u001b[39;00m\n\u001b[1;32m    586\u001b[0m \u001b[38;5;28;01melse\u001b[39;00m:\n\u001b[1;32m    587\u001b[0m     \u001b[38;5;28mself\u001b[39m\u001b[38;5;241m.\u001b[39m__print_correct(enum)\n",
      "\u001b[0;31mAssertionError\u001b[0m: "
     ]
    }
   ],
   "source": [
    "quiz.eval_numeric('6', mse_train_lr)"
   ]
  },
  {
   "cell_type": "code",
   "execution_count": 107,
   "metadata": {
    "deletable": false,
    "editable": false,
    "nbgrader": {
     "cell_type": "code",
     "checksum": "8d65d59c0566599df62a61cfbc942c8c",
     "grade": true,
     "grade_id": "cell-3fc6d47e13d5c1d5",
     "locked": true,
     "points": 2,
     "schema_version": 3,
     "solution": false,
     "task": false
    }
   },
   "outputs": [
    {
     "name": "stdout",
     "output_type": "stream",
     "text": [
      "\u001b[39m――――――――――――――――――――――――――――――――――――――――\n",
      "\u001b[31m7 | Ocurrió un error en tus cálculos.\n",
      "\u001b[39m――――――――――――――――――――――――――――――――――――――――\n",
      "\u001b[31mHint: \n",
      "\u001b[39m――――――――――――――――――――――――――――――――――――――――\n"
     ]
    },
    {
     "ename": "AssertionError",
     "evalue": "",
     "output_type": "error",
     "traceback": [
      "\u001b[0;31m---------------------------------------------------------------------------\u001b[0m",
      "\u001b[0;31mAssertionError\u001b[0m                            Traceback (most recent call last)",
      "Cell \u001b[0;32mIn[107], line 1\u001b[0m\n\u001b[0;32m----> 1\u001b[0m \u001b[43mquiz\u001b[49m\u001b[38;5;241;43m.\u001b[39;49m\u001b[43meval_numeric\u001b[49m\u001b[43m(\u001b[49m\u001b[38;5;124;43m'\u001b[39;49m\u001b[38;5;124;43m7\u001b[39;49m\u001b[38;5;124;43m'\u001b[39;49m\u001b[43m,\u001b[49m\u001b[43m \u001b[49m\u001b[43mr2_test_lr\u001b[49m\u001b[43m)\u001b[49m\n",
      "File \u001b[0;32m/opt/conda/lib/python3.11/site-packages/macti/eval/evaluation.py:584\u001b[0m, in \u001b[0;36mQuiz.eval_numeric\u001b[0;34m(self, enum, ans)\u001b[0m\n\u001b[1;32m    581\u001b[0m     \u001b[38;5;28mself\u001b[39m\u001b[38;5;241m.\u001b[39m__print_error_hint(enum, msg\u001b[38;5;241m=\u001b[39mmsg, info\u001b[38;5;241m=\u001b[39minfo)\n\u001b[1;32m    583\u001b[0m     \u001b[38;5;66;03m# Se lanza la excepción para que sea detectada por NBGrader\u001b[39;00m\n\u001b[0;32m--> 584\u001b[0m     \u001b[38;5;28;01mraise\u001b[39;00m \u001b[38;5;167;01mAssertionError\u001b[39;00m \u001b[38;5;28;01mfrom\u001b[39;00m \u001b[38;5;28;01mNone\u001b[39;00m\n\u001b[1;32m    586\u001b[0m \u001b[38;5;28;01melse\u001b[39;00m:\n\u001b[1;32m    587\u001b[0m     \u001b[38;5;28mself\u001b[39m\u001b[38;5;241m.\u001b[39m__print_correct(enum)\n",
      "\u001b[0;31mAssertionError\u001b[0m: "
     ]
    }
   ],
   "source": [
    "quiz.eval_numeric('7', r2_test_lr)"
   ]
  },
  {
   "cell_type": "code",
   "execution_count": 108,
   "metadata": {
    "deletable": false,
    "editable": false,
    "id": "Naz9soXrOWWZ",
    "nbgrader": {
     "cell_type": "code",
     "checksum": "014e5abbc18e318763db5fc6b19e31d6",
     "grade": true,
     "grade_id": "cell-4b9aa88fd77bc3e5",
     "locked": true,
     "points": 2,
     "schema_version": 3,
     "solution": false,
     "task": false
    }
   },
   "outputs": [
    {
     "name": "stdout",
     "output_type": "stream",
     "text": [
      "\u001b[39m――――――――――――――――――――――――――――――――――――――――\n",
      "\u001b[31m8 | Ocurrió un error en tus cálculos.\n",
      "\u001b[39m――――――――――――――――――――――――――――――――――――――――\n",
      "\u001b[31mHint: \n",
      "\u001b[39m――――――――――――――――――――――――――――――――――――――――\n"
     ]
    },
    {
     "ename": "AssertionError",
     "evalue": "",
     "output_type": "error",
     "traceback": [
      "\u001b[0;31m---------------------------------------------------------------------------\u001b[0m",
      "\u001b[0;31mAssertionError\u001b[0m                            Traceback (most recent call last)",
      "Cell \u001b[0;32mIn[108], line 1\u001b[0m\n\u001b[0;32m----> 1\u001b[0m \u001b[43mquiz\u001b[49m\u001b[38;5;241;43m.\u001b[39;49m\u001b[43meval_numeric\u001b[49m\u001b[43m(\u001b[49m\u001b[38;5;124;43m'\u001b[39;49m\u001b[38;5;124;43m8\u001b[39;49m\u001b[38;5;124;43m'\u001b[39;49m\u001b[43m,\u001b[49m\u001b[43m \u001b[49m\u001b[43mmse_test_lr\u001b[49m\u001b[43m)\u001b[49m\n",
      "File \u001b[0;32m/opt/conda/lib/python3.11/site-packages/macti/eval/evaluation.py:584\u001b[0m, in \u001b[0;36mQuiz.eval_numeric\u001b[0;34m(self, enum, ans)\u001b[0m\n\u001b[1;32m    581\u001b[0m     \u001b[38;5;28mself\u001b[39m\u001b[38;5;241m.\u001b[39m__print_error_hint(enum, msg\u001b[38;5;241m=\u001b[39mmsg, info\u001b[38;5;241m=\u001b[39minfo)\n\u001b[1;32m    583\u001b[0m     \u001b[38;5;66;03m# Se lanza la excepción para que sea detectada por NBGrader\u001b[39;00m\n\u001b[0;32m--> 584\u001b[0m     \u001b[38;5;28;01mraise\u001b[39;00m \u001b[38;5;167;01mAssertionError\u001b[39;00m \u001b[38;5;28;01mfrom\u001b[39;00m \u001b[38;5;28;01mNone\u001b[39;00m\n\u001b[1;32m    586\u001b[0m \u001b[38;5;28;01melse\u001b[39;00m:\n\u001b[1;32m    587\u001b[0m     \u001b[38;5;28mself\u001b[39m\u001b[38;5;241m.\u001b[39m__print_correct(enum)\n",
      "\u001b[0;31mAssertionError\u001b[0m: "
     ]
    }
   ],
   "source": [
    "quiz.eval_numeric('8', mse_test_lr)"
   ]
  },
  {
   "cell_type": "code",
   "execution_count": 68,
   "metadata": {
    "colab": {
     "base_uri": "https://localhost:8080/"
    },
    "deletable": false,
    "id": "ZYzKG9RY0xte",
    "nbgrader": {
     "cell_type": "code",
     "checksum": "81f82219934276811c3b3a69fee3a12d",
     "grade": false,
     "grade_id": "cell-6db40b2b0d4a3dce",
     "locked": false,
     "schema_version": 3,
     "solution": true,
     "task": false
    },
    "outputId": "6fe8fdfd-f2fd-44a0-d936-4250cf9f62e0"
   },
   "outputs": [
    {
     "name": "stdout",
     "output_type": "stream",
     "text": [
      "R2 Training (KNN): 0.443585\n",
      "RMSE Training (KNN): 0.863381\n",
      "R2 Test (KNN): 0.14052\n",
      "RMSE Test (KNN): 1.062122\n"
     ]
    }
   ],
   "source": [
    "# Aplica regresión KNN con 5 vecinos al conjunto y muestra el valor de R2 y RMSE\n",
    "# sobre los conjuntos de entrenamiento y pruebas redondeados a 6 cifras decimales\n",
    "from sklearn.neighbors import KNeighborsRegressor\n",
    "\n",
    "knn = KNeighborsRegressor(n_neighbors=5)\n",
    "knn.fit(X_train, y_train)\n",
    "\n",
    "# Predicciones\n",
    "y_train_pred_knn = knn.predict(X_train)\n",
    "y_test_pred_knn = knn.predict(X_test)\n",
    "\n",
    "# Resultados redondeados a 6 cifras\n",
    "r2_train_knn = round(r2_score(y_train, y_train_pred_knn), 6)\n",
    "mse_train_knn = round(np.sqrt(mean_squared_error(y_train, y_train_pred_knn)), 6)\n",
    "r2_test_knn = round(r2_score(y_test, y_test_pred_knn), 6)\n",
    "mse_test_knn = round(np.sqrt(mean_squared_error(y_test, y_test_pred_knn)), 6)\n",
    "\n",
    "print(f\"R2 Training (KNN): {r2_train_knn}\")\n",
    "print(f\"RMSE Training (KNN): {mse_train_knn}\")\n",
    "print(f\"R2 Test (KNN): {r2_test_knn}\")\n",
    "print(f\"RMSE Test (KNN): {mse_test_knn}\")"
   ]
  },
  {
   "cell_type": "code",
   "execution_count": 69,
   "metadata": {
    "deletable": false,
    "editable": false,
    "nbgrader": {
     "cell_type": "code",
     "checksum": "ec6c30ea32490e16a92079d6bdfc1912",
     "grade": true,
     "grade_id": "cell-cb7a36d8e6875119",
     "locked": true,
     "points": 2,
     "schema_version": 3,
     "solution": false,
     "task": false
    }
   },
   "outputs": [
    {
     "name": "stdout",
     "output_type": "stream",
     "text": [
      "\u001b[39m――――――――――――――――――――――――――――――――――――――――\n",
      "\u001b[31m9 | Ocurrió un error en tus cálculos.\n",
      "\u001b[39m――――――――――――――――――――――――――――――――――――――――\n",
      "\u001b[31mHint: \n",
      "\u001b[39m――――――――――――――――――――――――――――――――――――――――\n"
     ]
    },
    {
     "ename": "AssertionError",
     "evalue": "",
     "output_type": "error",
     "traceback": [
      "\u001b[0;31m---------------------------------------------------------------------------\u001b[0m",
      "\u001b[0;31mAssertionError\u001b[0m                            Traceback (most recent call last)",
      "Cell \u001b[0;32mIn[69], line 1\u001b[0m\n\u001b[0;32m----> 1\u001b[0m \u001b[43mquiz\u001b[49m\u001b[38;5;241;43m.\u001b[39;49m\u001b[43meval_numeric\u001b[49m\u001b[43m(\u001b[49m\u001b[38;5;124;43m'\u001b[39;49m\u001b[38;5;124;43m9\u001b[39;49m\u001b[38;5;124;43m'\u001b[39;49m\u001b[43m,\u001b[49m\u001b[43m \u001b[49m\u001b[43mr2_train_knn\u001b[49m\u001b[43m)\u001b[49m\n",
      "File \u001b[0;32m/opt/conda/lib/python3.11/site-packages/macti/eval/evaluation.py:584\u001b[0m, in \u001b[0;36mQuiz.eval_numeric\u001b[0;34m(self, enum, ans)\u001b[0m\n\u001b[1;32m    581\u001b[0m     \u001b[38;5;28mself\u001b[39m\u001b[38;5;241m.\u001b[39m__print_error_hint(enum, msg\u001b[38;5;241m=\u001b[39mmsg, info\u001b[38;5;241m=\u001b[39minfo)\n\u001b[1;32m    583\u001b[0m     \u001b[38;5;66;03m# Se lanza la excepción para que sea detectada por NBGrader\u001b[39;00m\n\u001b[0;32m--> 584\u001b[0m     \u001b[38;5;28;01mraise\u001b[39;00m \u001b[38;5;167;01mAssertionError\u001b[39;00m \u001b[38;5;28;01mfrom\u001b[39;00m \u001b[38;5;28;01mNone\u001b[39;00m\n\u001b[1;32m    586\u001b[0m \u001b[38;5;28;01melse\u001b[39;00m:\n\u001b[1;32m    587\u001b[0m     \u001b[38;5;28mself\u001b[39m\u001b[38;5;241m.\u001b[39m__print_correct(enum)\n",
      "\u001b[0;31mAssertionError\u001b[0m: "
     ]
    }
   ],
   "source": [
    "quiz.eval_numeric('9', r2_train_knn)"
   ]
  },
  {
   "cell_type": "code",
   "execution_count": 70,
   "metadata": {
    "deletable": false,
    "editable": false,
    "nbgrader": {
     "cell_type": "code",
     "checksum": "c9cd5c9f1726b92b13b6415a9730e0f9",
     "grade": true,
     "grade_id": "cell-dc0a68ed143874a0",
     "locked": true,
     "points": 2,
     "schema_version": 3,
     "solution": false,
     "task": false
    }
   },
   "outputs": [
    {
     "name": "stdout",
     "output_type": "stream",
     "text": [
      "\u001b[39m――――――――――――――――――――――――――――――――――――――――\n",
      "\u001b[31m10 | Ocurrió un error en tus cálculos.\n",
      "\u001b[39m――――――――――――――――――――――――――――――――――――――――\n",
      "\u001b[31mHint: \n",
      "\u001b[39m――――――――――――――――――――――――――――――――――――――――\n"
     ]
    },
    {
     "ename": "AssertionError",
     "evalue": "",
     "output_type": "error",
     "traceback": [
      "\u001b[0;31m---------------------------------------------------------------------------\u001b[0m",
      "\u001b[0;31mAssertionError\u001b[0m                            Traceback (most recent call last)",
      "Cell \u001b[0;32mIn[70], line 1\u001b[0m\n\u001b[0;32m----> 1\u001b[0m \u001b[43mquiz\u001b[49m\u001b[38;5;241;43m.\u001b[39;49m\u001b[43meval_numeric\u001b[49m\u001b[43m(\u001b[49m\u001b[38;5;124;43m'\u001b[39;49m\u001b[38;5;124;43m10\u001b[39;49m\u001b[38;5;124;43m'\u001b[39;49m\u001b[43m,\u001b[49m\u001b[43m \u001b[49m\u001b[43mmse_train_knn\u001b[49m\u001b[43m)\u001b[49m\n",
      "File \u001b[0;32m/opt/conda/lib/python3.11/site-packages/macti/eval/evaluation.py:584\u001b[0m, in \u001b[0;36mQuiz.eval_numeric\u001b[0;34m(self, enum, ans)\u001b[0m\n\u001b[1;32m    581\u001b[0m     \u001b[38;5;28mself\u001b[39m\u001b[38;5;241m.\u001b[39m__print_error_hint(enum, msg\u001b[38;5;241m=\u001b[39mmsg, info\u001b[38;5;241m=\u001b[39minfo)\n\u001b[1;32m    583\u001b[0m     \u001b[38;5;66;03m# Se lanza la excepción para que sea detectada por NBGrader\u001b[39;00m\n\u001b[0;32m--> 584\u001b[0m     \u001b[38;5;28;01mraise\u001b[39;00m \u001b[38;5;167;01mAssertionError\u001b[39;00m \u001b[38;5;28;01mfrom\u001b[39;00m \u001b[38;5;28;01mNone\u001b[39;00m\n\u001b[1;32m    586\u001b[0m \u001b[38;5;28;01melse\u001b[39;00m:\n\u001b[1;32m    587\u001b[0m     \u001b[38;5;28mself\u001b[39m\u001b[38;5;241m.\u001b[39m__print_correct(enum)\n",
      "\u001b[0;31mAssertionError\u001b[0m: "
     ]
    }
   ],
   "source": [
    "quiz.eval_numeric('10', mse_train_knn)"
   ]
  },
  {
   "cell_type": "code",
   "execution_count": 71,
   "metadata": {
    "deletable": false,
    "editable": false,
    "nbgrader": {
     "cell_type": "code",
     "checksum": "1a9da769dd9188329b5e295ecba8a9f7",
     "grade": true,
     "grade_id": "cell-134b8f3ba35ddaaf",
     "locked": true,
     "points": 2,
     "schema_version": 3,
     "solution": false,
     "task": false
    }
   },
   "outputs": [
    {
     "name": "stdout",
     "output_type": "stream",
     "text": [
      "\u001b[39m――――――――――――――――――――――――――――――――――――――――\n",
      "\u001b[32m11 | Tu resultado es correcto.\n",
      "\u001b[39m――――――――――――――――――――――――――――――――――――――――\n"
     ]
    }
   ],
   "source": [
    "quiz.eval_numeric('11', r2_test_knn)"
   ]
  },
  {
   "cell_type": "code",
   "execution_count": 72,
   "metadata": {
    "deletable": false,
    "editable": false,
    "id": "ucfe7wDDOV8M",
    "nbgrader": {
     "cell_type": "code",
     "checksum": "14d69b717c4d4423194794ddb788b26a",
     "grade": true,
     "grade_id": "cell-2bd65b750ea74295",
     "locked": true,
     "points": 2,
     "schema_version": 3,
     "solution": false,
     "task": false
    }
   },
   "outputs": [
    {
     "name": "stdout",
     "output_type": "stream",
     "text": [
      "\u001b[39m――――――――――――――――――――――――――――――――――――――――\n",
      "\u001b[31m12 | Ocurrió un error en tus cálculos.\n",
      "\u001b[39m――――――――――――――――――――――――――――――――――――――――\n",
      "\u001b[31mHint: \n",
      "\u001b[39m――――――――――――――――――――――――――――――――――――――――\n"
     ]
    },
    {
     "ename": "AssertionError",
     "evalue": "",
     "output_type": "error",
     "traceback": [
      "\u001b[0;31m---------------------------------------------------------------------------\u001b[0m",
      "\u001b[0;31mAssertionError\u001b[0m                            Traceback (most recent call last)",
      "Cell \u001b[0;32mIn[72], line 1\u001b[0m\n\u001b[0;32m----> 1\u001b[0m \u001b[43mquiz\u001b[49m\u001b[38;5;241;43m.\u001b[39;49m\u001b[43meval_numeric\u001b[49m\u001b[43m(\u001b[49m\u001b[38;5;124;43m'\u001b[39;49m\u001b[38;5;124;43m12\u001b[39;49m\u001b[38;5;124;43m'\u001b[39;49m\u001b[43m,\u001b[49m\u001b[43m \u001b[49m\u001b[43mmse_test_knn\u001b[49m\u001b[43m)\u001b[49m\n",
      "File \u001b[0;32m/opt/conda/lib/python3.11/site-packages/macti/eval/evaluation.py:584\u001b[0m, in \u001b[0;36mQuiz.eval_numeric\u001b[0;34m(self, enum, ans)\u001b[0m\n\u001b[1;32m    581\u001b[0m     \u001b[38;5;28mself\u001b[39m\u001b[38;5;241m.\u001b[39m__print_error_hint(enum, msg\u001b[38;5;241m=\u001b[39mmsg, info\u001b[38;5;241m=\u001b[39minfo)\n\u001b[1;32m    583\u001b[0m     \u001b[38;5;66;03m# Se lanza la excepción para que sea detectada por NBGrader\u001b[39;00m\n\u001b[0;32m--> 584\u001b[0m     \u001b[38;5;28;01mraise\u001b[39;00m \u001b[38;5;167;01mAssertionError\u001b[39;00m \u001b[38;5;28;01mfrom\u001b[39;00m \u001b[38;5;28;01mNone\u001b[39;00m\n\u001b[1;32m    586\u001b[0m \u001b[38;5;28;01melse\u001b[39;00m:\n\u001b[1;32m    587\u001b[0m     \u001b[38;5;28mself\u001b[39m\u001b[38;5;241m.\u001b[39m__print_correct(enum)\n",
      "\u001b[0;31mAssertionError\u001b[0m: "
     ]
    }
   ],
   "source": [
    "quiz.eval_numeric('12', mse_test_knn)"
   ]
  },
  {
   "cell_type": "code",
   "execution_count": 73,
   "metadata": {
    "colab": {
     "base_uri": "https://localhost:8080/"
    },
    "deletable": false,
    "id": "hOV3MWOE0xql",
    "nbgrader": {
     "cell_type": "code",
     "checksum": "fa78cd2b3907681fdb838ec74eea6cda",
     "grade": false,
     "grade_id": "cell-c6f4419be3f23392",
     "locked": false,
     "schema_version": 3,
     "solution": true,
     "task": false
    },
    "outputId": "7de792f8-bb07-434a-87ef-711f30048ba9"
   },
   "outputs": [
    {
     "name": "stdout",
     "output_type": "stream",
     "text": [
      "R2 Training (XGBoost): 0.821041\n",
      "RMSE Training (XGBoost): 0.489643\n",
      "R2 Test (XGBoost): 0.590112\n",
      "RMSE Test (XGBoost): 0.733481\n"
     ]
    }
   ],
   "source": [
    "# Aplica regresión XGB (valor para replicar = 42) al conjunto y muestra el valor de R2 y RMSE\n",
    "# sobre los conjuntos de entrenamiento y pruebas redondeados a 6 cifras decimales\n",
    "import xgboost as xgb\n",
    "\n",
    "xgb_reg = xgb.XGBRegressor(random_state=42)\n",
    "xgb_reg.fit(X_train, y_train)\n",
    "\n",
    "# Predicciones\n",
    "y_train_pred_xgb = xgb_reg.predict(X_train)\n",
    "y_test_pred_xgb = xgb_reg.predict(X_test)\n",
    "\n",
    "# Resultados redondeados a 6 cifras\n",
    "r2_train_xgb = round(r2_score(y_train, y_train_pred_xgb), 6)\n",
    "mse_train_xgb = round(np.sqrt(mean_squared_error(y_train, y_train_pred_xgb)), 6)\n",
    "r2_test_xgb = round(r2_score(y_test, y_test_pred_xgb), 6)\n",
    "mse_test_xgb = round(np.sqrt(mean_squared_error(y_test, y_test_pred_xgb)), 6)\n",
    "\n",
    "print(f\"R2 Training (XGBoost): {r2_train_xgb}\")\n",
    "print(f\"RMSE Training (XGBoost): {mse_train_xgb}\")\n",
    "print(f\"R2 Test (XGBoost): {r2_test_xgb}\")\n",
    "print(f\"RMSE Test (XGBoost): {mse_test_xgb}\")"
   ]
  },
  {
   "cell_type": "code",
   "execution_count": 74,
   "metadata": {
    "deletable": false,
    "editable": false,
    "id": "3kBfPVu5OVIZ",
    "nbgrader": {
     "cell_type": "code",
     "checksum": "37c1f6e8ac2a6818bb4478a2bfdf7c21",
     "grade": true,
     "grade_id": "cell-0d17fd30ec8f0c7c",
     "locked": true,
     "points": 2,
     "schema_version": 3,
     "solution": false,
     "task": false
    }
   },
   "outputs": [
    {
     "name": "stdout",
     "output_type": "stream",
     "text": [
      "\u001b[39m――――――――――――――――――――――――――――――――――――――――\n",
      "\u001b[31m13 | Ocurrió un error en tus cálculos.\n",
      "\u001b[39m――――――――――――――――――――――――――――――――――――――――\n",
      "\u001b[31mHint: \n",
      "\u001b[39m――――――――――――――――――――――――――――――――――――――――\n"
     ]
    },
    {
     "ename": "AssertionError",
     "evalue": "",
     "output_type": "error",
     "traceback": [
      "\u001b[0;31m---------------------------------------------------------------------------\u001b[0m",
      "\u001b[0;31mAssertionError\u001b[0m                            Traceback (most recent call last)",
      "Cell \u001b[0;32mIn[74], line 1\u001b[0m\n\u001b[0;32m----> 1\u001b[0m \u001b[43mquiz\u001b[49m\u001b[38;5;241;43m.\u001b[39;49m\u001b[43meval_numeric\u001b[49m\u001b[43m(\u001b[49m\u001b[38;5;124;43m'\u001b[39;49m\u001b[38;5;124;43m13\u001b[39;49m\u001b[38;5;124;43m'\u001b[39;49m\u001b[43m,\u001b[49m\u001b[43m \u001b[49m\u001b[43mr2_train_xgb\u001b[49m\u001b[43m)\u001b[49m\n",
      "File \u001b[0;32m/opt/conda/lib/python3.11/site-packages/macti/eval/evaluation.py:584\u001b[0m, in \u001b[0;36mQuiz.eval_numeric\u001b[0;34m(self, enum, ans)\u001b[0m\n\u001b[1;32m    581\u001b[0m     \u001b[38;5;28mself\u001b[39m\u001b[38;5;241m.\u001b[39m__print_error_hint(enum, msg\u001b[38;5;241m=\u001b[39mmsg, info\u001b[38;5;241m=\u001b[39minfo)\n\u001b[1;32m    583\u001b[0m     \u001b[38;5;66;03m# Se lanza la excepción para que sea detectada por NBGrader\u001b[39;00m\n\u001b[0;32m--> 584\u001b[0m     \u001b[38;5;28;01mraise\u001b[39;00m \u001b[38;5;167;01mAssertionError\u001b[39;00m \u001b[38;5;28;01mfrom\u001b[39;00m \u001b[38;5;28;01mNone\u001b[39;00m\n\u001b[1;32m    586\u001b[0m \u001b[38;5;28;01melse\u001b[39;00m:\n\u001b[1;32m    587\u001b[0m     \u001b[38;5;28mself\u001b[39m\u001b[38;5;241m.\u001b[39m__print_correct(enum)\n",
      "\u001b[0;31mAssertionError\u001b[0m: "
     ]
    }
   ],
   "source": [
    "quiz.eval_numeric('13', r2_train_xgb)"
   ]
  },
  {
   "cell_type": "code",
   "execution_count": 75,
   "metadata": {
    "deletable": false,
    "editable": false,
    "nbgrader": {
     "cell_type": "code",
     "checksum": "da4b5893364da1e649671d02b2653b88",
     "grade": true,
     "grade_id": "cell-6eb7f701cc04e58a",
     "locked": true,
     "points": 2,
     "schema_version": 3,
     "solution": false,
     "task": false
    }
   },
   "outputs": [
    {
     "name": "stdout",
     "output_type": "stream",
     "text": [
      "\u001b[39m――――――――――――――――――――――――――――――――――――――――\n",
      "\u001b[31m14 | Ocurrió un error en tus cálculos.\n",
      "\u001b[39m――――――――――――――――――――――――――――――――――――――――\n",
      "\u001b[31mHint: \n",
      "\u001b[39m――――――――――――――――――――――――――――――――――――――――\n"
     ]
    },
    {
     "ename": "AssertionError",
     "evalue": "",
     "output_type": "error",
     "traceback": [
      "\u001b[0;31m---------------------------------------------------------------------------\u001b[0m",
      "\u001b[0;31mAssertionError\u001b[0m                            Traceback (most recent call last)",
      "Cell \u001b[0;32mIn[75], line 1\u001b[0m\n\u001b[0;32m----> 1\u001b[0m \u001b[43mquiz\u001b[49m\u001b[38;5;241;43m.\u001b[39;49m\u001b[43meval_numeric\u001b[49m\u001b[43m(\u001b[49m\u001b[38;5;124;43m'\u001b[39;49m\u001b[38;5;124;43m14\u001b[39;49m\u001b[38;5;124;43m'\u001b[39;49m\u001b[43m,\u001b[49m\u001b[43m \u001b[49m\u001b[43mmse_train_xgb\u001b[49m\u001b[43m)\u001b[49m\n",
      "File \u001b[0;32m/opt/conda/lib/python3.11/site-packages/macti/eval/evaluation.py:584\u001b[0m, in \u001b[0;36mQuiz.eval_numeric\u001b[0;34m(self, enum, ans)\u001b[0m\n\u001b[1;32m    581\u001b[0m     \u001b[38;5;28mself\u001b[39m\u001b[38;5;241m.\u001b[39m__print_error_hint(enum, msg\u001b[38;5;241m=\u001b[39mmsg, info\u001b[38;5;241m=\u001b[39minfo)\n\u001b[1;32m    583\u001b[0m     \u001b[38;5;66;03m# Se lanza la excepción para que sea detectada por NBGrader\u001b[39;00m\n\u001b[0;32m--> 584\u001b[0m     \u001b[38;5;28;01mraise\u001b[39;00m \u001b[38;5;167;01mAssertionError\u001b[39;00m \u001b[38;5;28;01mfrom\u001b[39;00m \u001b[38;5;28;01mNone\u001b[39;00m\n\u001b[1;32m    586\u001b[0m \u001b[38;5;28;01melse\u001b[39;00m:\n\u001b[1;32m    587\u001b[0m     \u001b[38;5;28mself\u001b[39m\u001b[38;5;241m.\u001b[39m__print_correct(enum)\n",
      "\u001b[0;31mAssertionError\u001b[0m: "
     ]
    }
   ],
   "source": [
    "quiz.eval_numeric('14', mse_train_xgb)"
   ]
  },
  {
   "cell_type": "code",
   "execution_count": 76,
   "metadata": {
    "deletable": false,
    "editable": false,
    "nbgrader": {
     "cell_type": "code",
     "checksum": "ce4602c0113a6ae19bb381ac494b24c2",
     "grade": true,
     "grade_id": "cell-b78d2b862eeebb52",
     "locked": true,
     "points": 2,
     "schema_version": 3,
     "solution": false,
     "task": false
    }
   },
   "outputs": [
    {
     "name": "stdout",
     "output_type": "stream",
     "text": [
      "\u001b[39m――――――――――――――――――――――――――――――――――――――――\n",
      "\u001b[32m15 | Tu resultado es correcto.\n",
      "\u001b[39m――――――――――――――――――――――――――――――――――――――――\n"
     ]
    }
   ],
   "source": [
    "quiz.eval_numeric('15', r2_test_xgb)"
   ]
  },
  {
   "cell_type": "code",
   "execution_count": 77,
   "metadata": {
    "deletable": false,
    "editable": false,
    "nbgrader": {
     "cell_type": "code",
     "checksum": "6d0966b6fd06ecc89e6bcb8327a74ef7",
     "grade": true,
     "grade_id": "cell-b920994694d2666a",
     "locked": true,
     "points": 2,
     "schema_version": 3,
     "solution": false,
     "task": false
    }
   },
   "outputs": [
    {
     "name": "stdout",
     "output_type": "stream",
     "text": [
      "\u001b[39m――――――――――――――――――――――――――――――――――――――――\n",
      "\u001b[31m16 | Ocurrió un error en tus cálculos.\n",
      "\u001b[39m――――――――――――――――――――――――――――――――――――――――\n",
      "\u001b[31mHint: \n",
      "\u001b[39m――――――――――――――――――――――――――――――――――――――――\n"
     ]
    },
    {
     "ename": "AssertionError",
     "evalue": "",
     "output_type": "error",
     "traceback": [
      "\u001b[0;31m---------------------------------------------------------------------------\u001b[0m",
      "\u001b[0;31mAssertionError\u001b[0m                            Traceback (most recent call last)",
      "Cell \u001b[0;32mIn[77], line 1\u001b[0m\n\u001b[0;32m----> 1\u001b[0m \u001b[43mquiz\u001b[49m\u001b[38;5;241;43m.\u001b[39;49m\u001b[43meval_numeric\u001b[49m\u001b[43m(\u001b[49m\u001b[38;5;124;43m'\u001b[39;49m\u001b[38;5;124;43m16\u001b[39;49m\u001b[38;5;124;43m'\u001b[39;49m\u001b[43m,\u001b[49m\u001b[43m \u001b[49m\u001b[43mmse_test_xgb\u001b[49m\u001b[43m)\u001b[49m\n",
      "File \u001b[0;32m/opt/conda/lib/python3.11/site-packages/macti/eval/evaluation.py:584\u001b[0m, in \u001b[0;36mQuiz.eval_numeric\u001b[0;34m(self, enum, ans)\u001b[0m\n\u001b[1;32m    581\u001b[0m     \u001b[38;5;28mself\u001b[39m\u001b[38;5;241m.\u001b[39m__print_error_hint(enum, msg\u001b[38;5;241m=\u001b[39mmsg, info\u001b[38;5;241m=\u001b[39minfo)\n\u001b[1;32m    583\u001b[0m     \u001b[38;5;66;03m# Se lanza la excepción para que sea detectada por NBGrader\u001b[39;00m\n\u001b[0;32m--> 584\u001b[0m     \u001b[38;5;28;01mraise\u001b[39;00m \u001b[38;5;167;01mAssertionError\u001b[39;00m \u001b[38;5;28;01mfrom\u001b[39;00m \u001b[38;5;28;01mNone\u001b[39;00m\n\u001b[1;32m    586\u001b[0m \u001b[38;5;28;01melse\u001b[39;00m:\n\u001b[1;32m    587\u001b[0m     \u001b[38;5;28mself\u001b[39m\u001b[38;5;241m.\u001b[39m__print_correct(enum)\n",
      "\u001b[0;31mAssertionError\u001b[0m: "
     ]
    }
   ],
   "source": [
    "quiz.eval_numeric('16', mse_test_xgb)"
   ]
  },
  {
   "cell_type": "code",
   "execution_count": null,
   "metadata": {
    "id": "VvpX-3qGOU_S"
   },
   "outputs": [],
   "source": []
  },
  {
   "cell_type": "code",
   "execution_count": null,
   "metadata": {},
   "outputs": [],
   "source": []
  }
 ],
 "metadata": {
  "colab": {
   "provenance": []
  },
  "kernelspec": {
   "display_name": "Python 3 (ipykernel)",
   "language": "python",
   "name": "python3"
  },
  "language_info": {
   "codemirror_mode": {
    "name": "ipython",
    "version": 3
   },
   "file_extension": ".py",
   "mimetype": "text/x-python",
   "name": "python",
   "nbconvert_exporter": "python",
   "pygments_lexer": "ipython3",
   "version": "3.11.6"
  }
 },
 "nbformat": 4,
 "nbformat_minor": 4
}
