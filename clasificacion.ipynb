{
 "cells": [
  {
   "cell_type": "markdown",
   "metadata": {},
   "source": [
    "Before you turn this problem in, make sure everything runs as expected. First, **restart the kernel** (in the menubar, select Kernel $\\rightarrow$ Restart) and then **run all cells** (in the menubar, select Cell $\\rightarrow$ Run All).\n",
    "\n",
    "Make sure you fill in any place that says `YOUR CODE HERE` or \"YOUR ANSWER HERE\", as well as your name and collaborators below:"
   ]
  },
  {
   "cell_type": "code",
   "execution_count": null,
   "metadata": {},
   "outputs": [],
   "source": [
    "NAME = \"Jorge Ángel Gómez Meza\"\n",
    "COLLABORATORS = \"Irving Morgado Vinalay, Mauricio Morgado Castillo\""
   ]
  },
  {
   "cell_type": "markdown",
   "metadata": {},
   "source": [
    "---"
   ]
  },
  {
   "cell_type": "markdown",
   "metadata": {
    "deletable": false,
    "editable": false,
    "id": "MQIOiAKIB8aN",
    "nbgrader": {
     "cell_type": "markdown",
     "checksum": "0cdeaa8de229cf44a13b55a706a58baa",
     "grade": false,
     "grade_id": "cell-09f2b03b9f2fe02a",
     "locked": true,
     "schema_version": 3,
     "solution": false,
     "task": false
    }
   },
   "source": [
    "<div class=\"alert alert-success\">\n",
    "    \n",
    "## Clasificación\n",
    "\n",
    "Comparar el rendimiento de diversos algoritmos con un mismo conjunto de datos"
   ]
  },
  {
   "cell_type": "code",
   "execution_count": 2,
   "metadata": {
    "deletable": false,
    "editable": false,
    "id": "QLO3BFZ16Gzv",
    "nbgrader": {
     "cell_type": "code",
     "checksum": "53cd99513636a68a98f185e002439065",
     "grade": false,
     "grade_id": "cell-55644b35f35d67ec",
     "locked": true,
     "schema_version": 3,
     "solution": false,
     "task": false
    }
   },
   "outputs": [],
   "source": [
    "# Bibliotecas bísicas a utilizar\n",
    "import numpy as np\n",
    "import pandas as pd\n",
    "import matplotlib.pyplot as plt\n",
    "from macti.eval import *"
   ]
  },
  {
   "cell_type": "code",
   "execution_count": 3,
   "metadata": {
    "deletable": false,
    "editable": false,
    "nbgrader": {
     "cell_type": "code",
     "checksum": "04ed6f0a790da0f4ce5de870813acd5a",
     "grade": false,
     "grade_id": "cell-7ccb4c47fdbbe655",
     "locked": true,
     "schema_version": 3,
     "solution": false,
     "task": false
    }
   },
   "outputs": [],
   "source": [
    "quiz = Quiz('1', 'mdp')"
   ]
  },
  {
   "cell_type": "code",
   "execution_count": 4,
   "metadata": {
    "colab": {
     "base_uri": "https://localhost:8080/",
     "height": 112
    },
    "deletable": false,
    "editable": false,
    "id": "OmfJh36I0xk2",
    "nbgrader": {
     "cell_type": "code",
     "checksum": "a387659677a3638d251b12e416fef39b",
     "grade": false,
     "grade_id": "cell-c1a60932fc62c28c",
     "locked": true,
     "schema_version": 3,
     "solution": false,
     "task": false
    },
    "outputId": "0418b076-28f7-495f-8ee9-5f97ce5bbd74"
   },
   "outputs": [
    {
     "data": {
      "text/html": [
       "<div>\n",
       "<style scoped>\n",
       "    .dataframe tbody tr th:only-of-type {\n",
       "        vertical-align: middle;\n",
       "    }\n",
       "\n",
       "    .dataframe tbody tr th {\n",
       "        vertical-align: top;\n",
       "    }\n",
       "\n",
       "    .dataframe thead th {\n",
       "        text-align: right;\n",
       "    }\n",
       "</style>\n",
       "<table border=\"1\" class=\"dataframe\">\n",
       "  <thead>\n",
       "    <tr style=\"text-align: right;\">\n",
       "      <th></th>\n",
       "      <th>buying</th>\n",
       "      <th>maint</th>\n",
       "      <th>doors</th>\n",
       "      <th>persons</th>\n",
       "      <th>lug_boot</th>\n",
       "      <th>safety</th>\n",
       "      <th>class</th>\n",
       "    </tr>\n",
       "  </thead>\n",
       "  <tbody>\n",
       "    <tr>\n",
       "      <th>1726</th>\n",
       "      <td>low</td>\n",
       "      <td>low</td>\n",
       "      <td>5more</td>\n",
       "      <td>more</td>\n",
       "      <td>big</td>\n",
       "      <td>med</td>\n",
       "      <td>good</td>\n",
       "    </tr>\n",
       "    <tr>\n",
       "      <th>1727</th>\n",
       "      <td>low</td>\n",
       "      <td>low</td>\n",
       "      <td>5more</td>\n",
       "      <td>more</td>\n",
       "      <td>big</td>\n",
       "      <td>high</td>\n",
       "      <td>vgood</td>\n",
       "    </tr>\n",
       "  </tbody>\n",
       "</table>\n",
       "</div>"
      ],
      "text/plain": [
       "     buying maint  doors persons lug_boot safety  class\n",
       "1726    low   low  5more    more      big    med   good\n",
       "1727    low   low  5more    more      big   high  vgood"
      ]
     },
     "execution_count": 4,
     "metadata": {},
     "output_type": "execute_result"
    }
   ],
   "source": [
    "# Revisa, descarga e importa el conjunto de datos de la URL: https://bit.ly/4euJGRd\n",
    "datos = pd.read_csv('cars.csv')\n",
    "datos.tail(2)"
   ]
  },
  {
   "cell_type": "code",
   "execution_count": 5,
   "metadata": {
    "colab": {
     "base_uri": "https://localhost:8080/"
    },
    "id": "1OxRpKM943ah",
    "outputId": "e3668dae-1fef-4cd9-a320-5745acd316c7"
   },
   "outputs": [
    {
     "name": "stdout",
     "output_type": "stream",
     "text": [
      "['high' 'low' 'med' 'vhigh'] \n",
      " ['high' 'low' 'med' 'vhigh'] \n",
      " ['2' '3' '4' '5more'] \n",
      " ['2' '4' 'more'] \n",
      " ['big' 'med' 'small'] \n",
      " ['high' 'low' 'med']\n"
     ]
    }
   ],
   "source": [
    "# Categorías de cada columna\n",
    "print(np.unique(datos.buying),'\\n',np.unique(datos.maint),'\\n',np.unique(datos.doors),'\\n',\n",
    "      np.unique(datos.persons),'\\n',np.unique(datos.lug_boot),'\\n',np.unique(datos.safety))"
   ]
  },
  {
   "cell_type": "code",
   "execution_count": 6,
   "metadata": {
    "colab": {
     "base_uri": "https://localhost:8080/"
    },
    "id": "P5-M9OSa4QCa",
    "outputId": "a2cfa1a0-3aa6-4d34-ee06-b61ead169b29"
   },
   "outputs": [],
   "source": [
    "# Con ayuda de los siguientes diccionario alpica map y convierte las categorías\n",
    "# y etiquetas de clase en números\n",
    "# Ordinales\n",
    "buying_maint_safety_map = {'low':1, 'med':2, 'high':3, 'vhigh':4}\n",
    "doors_map = {'2':1, '3':2, '4':3, '5more':4}\n",
    "persons_map = {'2':1, '4':2, 'more':3}\n",
    "lug_boot_map = {'small':1, 'med':2, 'big':3}\n",
    "# Clases\n",
    "class_map = {et:idx for idx,et in enumerate(np.unique(datos['class']))}"
   ]
  },
  {
   "cell_type": "code",
   "execution_count": 7,
   "metadata": {
    "id": "ztJss60U4QAG"
   },
   "outputs": [],
   "source": [
    "datos.buying = datos.buying.map(buying_maint_safety_map)\n",
    "datos.maint = datos.maint.map(buying_maint_safety_map)\n",
    "datos.safety = datos.safety.map(buying_maint_safety_map)\n",
    "datos.doors = datos.doors.map(doors_map)\n",
    "datos.persons = datos.persons.map(persons_map)\n",
    "datos.lug_boot = datos.lug_boot.map(lug_boot_map)\n",
    "datos['class'] = datos['class'].map(class_map)"
   ]
  },
  {
   "cell_type": "code",
   "execution_count": 8,
   "metadata": {
    "colab": {
     "base_uri": "https://localhost:8080/",
     "height": 112
    },
    "id": "gnk_nrgHEmZj",
    "outputId": "e17a0b6e-cc30-48d3-f313-4687eacaa3db"
   },
   "outputs": [
    {
     "data": {
      "text/html": [
       "<div>\n",
       "<style scoped>\n",
       "    .dataframe tbody tr th:only-of-type {\n",
       "        vertical-align: middle;\n",
       "    }\n",
       "\n",
       "    .dataframe tbody tr th {\n",
       "        vertical-align: top;\n",
       "    }\n",
       "\n",
       "    .dataframe thead th {\n",
       "        text-align: right;\n",
       "    }\n",
       "</style>\n",
       "<table border=\"1\" class=\"dataframe\">\n",
       "  <thead>\n",
       "    <tr style=\"text-align: right;\">\n",
       "      <th></th>\n",
       "      <th>buying</th>\n",
       "      <th>maint</th>\n",
       "      <th>doors</th>\n",
       "      <th>persons</th>\n",
       "      <th>lug_boot</th>\n",
       "      <th>safety</th>\n",
       "      <th>class</th>\n",
       "    </tr>\n",
       "  </thead>\n",
       "  <tbody>\n",
       "    <tr>\n",
       "      <th>1726</th>\n",
       "      <td>1</td>\n",
       "      <td>1</td>\n",
       "      <td>4</td>\n",
       "      <td>3</td>\n",
       "      <td>3</td>\n",
       "      <td>2</td>\n",
       "      <td>1</td>\n",
       "    </tr>\n",
       "    <tr>\n",
       "      <th>1727</th>\n",
       "      <td>1</td>\n",
       "      <td>1</td>\n",
       "      <td>4</td>\n",
       "      <td>3</td>\n",
       "      <td>3</td>\n",
       "      <td>3</td>\n",
       "      <td>3</td>\n",
       "    </tr>\n",
       "  </tbody>\n",
       "</table>\n",
       "</div>"
      ],
      "text/plain": [
       "      buying  maint  doors  persons  lug_boot  safety  class\n",
       "1726       1      1      4        3         3       2      1\n",
       "1727       1      1      4        3         3       3      3"
      ]
     },
     "execution_count": 8,
     "metadata": {},
     "output_type": "execute_result"
    }
   ],
   "source": [
    "datos.tail(2)"
   ]
  },
  {
   "cell_type": "code",
   "execution_count": 9,
   "metadata": {
    "colab": {
     "base_uri": "https://localhost:8080/"
    },
    "id": "RWFz3rFGEmWt",
    "outputId": "680c3d4c-9041-4c15-9e86-33aaf867b780"
   },
   "outputs": [
    {
     "name": "stdout",
     "output_type": "stream",
     "text": [
      "1728\n"
     ]
    }
   ],
   "source": [
    "# Guarda en \"X\" los vectores predictores como arreglos nuumpy (revisa 'iloc')\n",
    "# En \"y\" almacena la variable objetivo (class), muestra número filas\n",
    "X = datos.iloc[:,:6].values\n",
    "y = datos.iloc[:,6].values\n",
    "print(y.shape[0])"
   ]
  },
  {
   "cell_type": "code",
   "execution_count": 10,
   "metadata": {
    "colab": {
     "base_uri": "https://localhost:8080/"
    },
    "deletable": false,
    "id": "6M1mhrx1EmUH",
    "nbgrader": {
     "cell_type": "code",
     "checksum": "b9d14dc31e5740c5c3ae571bdfe2a3c5",
     "grade": false,
     "grade_id": "cell-ff886cca037d3bc2",
     "locked": false,
     "schema_version": 3,
     "solution": true,
     "task": false
    },
    "outputId": "d62933c4-1e6a-4a95-bdac-1276b39fd8b9"
   },
   "outputs": [
    {
     "name": "stdout",
     "output_type": "stream",
     "text": [
      "1296\n",
      "432\n"
     ]
    }
   ],
   "source": [
    "# Separa en conjuntos de entrenamiento y pruebas con 25% de datos para pruebas\n",
    "# y un valor de 42 para replicabilidad, muestra número filas de cada conjunto\n",
    "from sklearn.model_selection import train_test_split\n",
    "\n",
    "X_train, X_test, y_train, y_test = train_test_split(X, y, test_size=0.25, random_state=42)\n",
    "\n",
    "filas_train = X_train.shape[0]\n",
    "filas_test = X_test.shape[0]\n",
    "print(filas_train)\n",
    "print(filas_test)"
   ]
  },
  {
   "cell_type": "code",
   "execution_count": 11,
   "metadata": {
    "deletable": false,
    "editable": false,
    "id": "w_KUB_JzBjmU",
    "nbgrader": {
     "cell_type": "code",
     "checksum": "b391dfabe10df0241444a05c794be0be",
     "grade": true,
     "grade_id": "cell-a77affd7245ffe6c",
     "locked": true,
     "points": 1,
     "schema_version": 3,
     "solution": false,
     "task": false
    }
   },
   "outputs": [
    {
     "name": "stdout",
     "output_type": "stream",
     "text": [
      "\u001b[39m――――――――――――――――――――――――――――――――――――――――\n",
      "\u001b[32m1 | Tu resultado es correcto.\n",
      "\u001b[39m――――――――――――――――――――――――――――――――――――――――\n"
     ]
    }
   ],
   "source": [
    "quiz.eval_numeric('1', filas_train)"
   ]
  },
  {
   "cell_type": "code",
   "execution_count": 12,
   "metadata": {
    "deletable": false,
    "editable": false,
    "nbgrader": {
     "cell_type": "code",
     "checksum": "a24cd6f18ddcdae6ce55a0e6c0d76e2a",
     "grade": true,
     "grade_id": "cell-1a4c83907a73edd0",
     "locked": true,
     "points": 1,
     "schema_version": 3,
     "solution": false,
     "task": false
    }
   },
   "outputs": [
    {
     "name": "stdout",
     "output_type": "stream",
     "text": [
      "\u001b[39m――――――――――――――――――――――――――――――――――――――――\n",
      "\u001b[32m2 | Tu resultado es correcto.\n",
      "\u001b[39m――――――――――――――――――――――――――――――――――――――――\n"
     ]
    }
   ],
   "source": [
    "quiz.eval_numeric('2', filas_test)"
   ]
  },
  {
   "cell_type": "code",
   "execution_count": 13,
   "metadata": {
    "colab": {
     "base_uri": "https://localhost:8080/"
    },
    "deletable": false,
    "id": "7B9AlnPCEmRp",
    "nbgrader": {
     "cell_type": "code",
     "checksum": "13a61ff999d43ecb64bf4b6e0ff5f321",
     "grade": false,
     "grade_id": "cell-ab5c2695ba596f29",
     "locked": false,
     "schema_version": 3,
     "solution": true,
     "task": false
    },
    "outputId": "f1cbe109-ba6c-4acb-afae-2f48eb4533bc"
   },
   "outputs": [
    {
     "name": "stdout",
     "output_type": "stream",
     "text": [
      "0.67284\n",
      "0.650463\n"
     ]
    }
   ],
   "source": [
    "# Aplica el Perceptrón al conjunto de entrenamiento con eta=0.15,random_state=42\n",
    "# y muestra el valor de la exactitud sobre el conjunto de entrenamiento y pruebas\n",
    "# redondeados a 6 cifras decimales\n",
    "from sklearn.linear_model import Perceptron\n",
    "\n",
    "ppn = Perceptron(eta0=0.15, random_state=42)\n",
    "ppn.fit(X_train, y_train)\n",
    "\n",
    "# Resultados redondeados a 6 cifras\n",
    "accuracy_train_ppn = round(ppn.score(X_train, y_train), 6)\n",
    "accuracy_test_ppn = round(ppn.score(X_test, y_test), 6)\n",
    "print(accuracy_train_ppn)\n",
    "print(accuracy_test_ppn)"
   ]
  },
  {
   "cell_type": "code",
   "execution_count": 14,
   "metadata": {
    "deletable": false,
    "editable": false,
    "nbgrader": {
     "cell_type": "code",
     "checksum": "5548d67a6254e0c7abd97d7392250970",
     "grade": true,
     "grade_id": "cell-c47875f18c941a42",
     "locked": true,
     "points": 2,
     "schema_version": 3,
     "solution": false,
     "task": false
    }
   },
   "outputs": [
    {
     "name": "stdout",
     "output_type": "stream",
     "text": [
      "\u001b[39m――――――――――――――――――――――――――――――――――――――――\n",
      "\u001b[32m3 | Tu resultado es correcto.\n",
      "\u001b[39m――――――――――――――――――――――――――――――――――――――――\n"
     ]
    }
   ],
   "source": [
    "quiz.eval_numeric('3', accuracy_train_ppn)"
   ]
  },
  {
   "cell_type": "code",
   "execution_count": 15,
   "metadata": {
    "deletable": false,
    "editable": false,
    "id": "jpH8oLn7BjIu",
    "nbgrader": {
     "cell_type": "code",
     "checksum": "e7c3eb2d2925f11fad4ad8844980f563",
     "grade": true,
     "grade_id": "cell-77b363b7dc4c29a0",
     "locked": true,
     "points": 2,
     "schema_version": 3,
     "solution": false,
     "task": false
    }
   },
   "outputs": [
    {
     "name": "stdout",
     "output_type": "stream",
     "text": [
      "\u001b[39m――――――――――――――――――――――――――――――――――――――――\n",
      "\u001b[32m4 | Tu resultado es correcto.\n",
      "\u001b[39m――――――――――――――――――――――――――――――――――――――――\n"
     ]
    }
   ],
   "source": [
    "quiz.eval_numeric('4', accuracy_test_ppn)"
   ]
  },
  {
   "cell_type": "code",
   "execution_count": 16,
   "metadata": {
    "colab": {
     "base_uri": "https://localhost:8080/"
    },
    "deletable": false,
    "id": "q_EOJfjFEmOV",
    "nbgrader": {
     "cell_type": "code",
     "checksum": "949982efeb7a2a5253ea8132bfec06f6",
     "grade": false,
     "grade_id": "cell-3cd4c7acae8c4f82",
     "locked": false,
     "schema_version": 3,
     "solution": true,
     "task": false
    },
    "outputId": "9c90077e-8e06-4ea8-b90e-bee555a06430"
   },
   "outputs": [
    {
     "name": "stdout",
     "output_type": "stream",
     "text": [
      "0.826389\n",
      "0.819444\n"
     ]
    }
   ],
   "source": [
    "# Aplica Regresión Logística al conjunto de entrenamiento con max_iter=150,random_state=42\n",
    "# y muestra el valor de la exactitud sobre el conjunto de pruebas\n",
    "# redondeados a 6 cifras decimales\n",
    "from sklearn.linear_model import LogisticRegression\n",
    "\n",
    "lr = LogisticRegression(max_iter=150, random_state=42)\n",
    "lr.fit(X_train, y_train)\n",
    "\n",
    "accuracy_train_lr = round(lr.score(X_train, y_train), 6)\n",
    "accuracy_test_lr = round(lr.score(X_test, y_test), 6)\n",
    "print(accuracy_train_lr)\n",
    "print(accuracy_test_lr)"
   ]
  },
  {
   "cell_type": "code",
   "execution_count": 17,
   "metadata": {
    "deletable": false,
    "editable": false,
    "nbgrader": {
     "cell_type": "code",
     "checksum": "2920af4a4a356f318e52a1f7215b284a",
     "grade": true,
     "grade_id": "cell-0bdcf7e806ec32ba",
     "locked": true,
     "points": 2,
     "schema_version": 3,
     "solution": false,
     "task": false
    }
   },
   "outputs": [
    {
     "name": "stdout",
     "output_type": "stream",
     "text": [
      "\u001b[39m――――――――――――――――――――――――――――――――――――――――\n",
      "\u001b[32m5 | Tu resultado es correcto.\n",
      "\u001b[39m――――――――――――――――――――――――――――――――――――――――\n"
     ]
    }
   ],
   "source": [
    "quiz.eval_numeric('5', accuracy_train_lr)"
   ]
  },
  {
   "cell_type": "code",
   "execution_count": 18,
   "metadata": {
    "deletable": false,
    "editable": false,
    "id": "PeoW7extBikq",
    "nbgrader": {
     "cell_type": "code",
     "checksum": "e0feafef7b6ff9e592af396dc23cef57",
     "grade": true,
     "grade_id": "cell-29b4c5f9cff9796d",
     "locked": true,
     "points": 2,
     "schema_version": 3,
     "solution": false,
     "task": false
    }
   },
   "outputs": [
    {
     "name": "stdout",
     "output_type": "stream",
     "text": [
      "\u001b[39m――――――――――――――――――――――――――――――――――――――――\n",
      "\u001b[32m6 | Tu resultado es correcto.\n",
      "\u001b[39m――――――――――――――――――――――――――――――――――――――――\n"
     ]
    }
   ],
   "source": [
    "quiz.eval_numeric('6', accuracy_test_lr)"
   ]
  },
  {
   "cell_type": "code",
   "execution_count": 19,
   "metadata": {
    "colab": {
     "base_uri": "https://localhost:8080/"
    },
    "deletable": false,
    "id": "6yKmDTvsEojR",
    "nbgrader": {
     "cell_type": "code",
     "checksum": "f076ac642ddc3b15cf31fdc8206c60b4",
     "grade": false,
     "grade_id": "cell-292273da92bb6bf3",
     "locked": false,
     "schema_version": 3,
     "solution": true,
     "task": false
    },
    "outputId": "a92c3e40-372c-4715-d594-7c28cbb97084"
   },
   "outputs": [
    {
     "name": "stdout",
     "output_type": "stream",
     "text": [
      "0.974537\n",
      "0.93287\n"
     ]
    }
   ],
   "source": [
    "# Aplica Clasificación KNN al conjunto de entrenamiento con 5 vecinos\n",
    "# y muestra el valor de la exactitud sobre el conjunto de pruebas\n",
    "# redondeados a 6 cifras decimales\n",
    "from sklearn.neighbors import KNeighborsClassifier\n",
    "\n",
    "knn = KNeighborsClassifier(n_neighbors=5)\n",
    "knn.fit(X_train, y_train)\n",
    "\n",
    "accuracy_train_knn = round(knn.score(X_train, y_train), 6)\n",
    "accuracy_test_knn = round(knn.score(X_test, y_test), 6)\n",
    "print(accuracy_train_knn)\n",
    "print(accuracy_test_knn)"
   ]
  },
  {
   "cell_type": "code",
   "execution_count": 20,
   "metadata": {
    "deletable": false,
    "editable": false,
    "id": "dmkERnLKBiH3",
    "nbgrader": {
     "cell_type": "code",
     "checksum": "3d41587c8fdcbb8cacbe0df1a807a1bb",
     "grade": true,
     "grade_id": "cell-b694ca18f0ac0d5b",
     "locked": true,
     "points": 2,
     "schema_version": 3,
     "solution": false,
     "task": false
    }
   },
   "outputs": [
    {
     "name": "stdout",
     "output_type": "stream",
     "text": [
      "\u001b[39m――――――――――――――――――――――――――――――――――――――――\n",
      "\u001b[32m7 | Tu resultado es correcto.\n",
      "\u001b[39m――――――――――――――――――――――――――――――――――――――――\n"
     ]
    }
   ],
   "source": [
    "quiz.eval_numeric('7', accuracy_train_knn)"
   ]
  },
  {
   "cell_type": "code",
   "execution_count": 21,
   "metadata": {
    "deletable": false,
    "editable": false,
    "nbgrader": {
     "cell_type": "code",
     "checksum": "34a0f61b838cc89e4e1c2aa89ea695f5",
     "grade": true,
     "grade_id": "cell-a77d0e6f431acb95",
     "locked": true,
     "points": 2,
     "schema_version": 3,
     "solution": false,
     "task": false
    }
   },
   "outputs": [
    {
     "name": "stdout",
     "output_type": "stream",
     "text": [
      "\u001b[39m――――――――――――――――――――――――――――――――――――――――\n",
      "\u001b[32m8 | Tu resultado es correcto.\n",
      "\u001b[39m――――――――――――――――――――――――――――――――――――――――\n"
     ]
    }
   ],
   "source": [
    "quiz.eval_numeric('8', accuracy_test_knn)"
   ]
  },
  {
   "cell_type": "code",
   "execution_count": 22,
   "metadata": {
    "colab": {
     "base_uri": "https://localhost:8080/"
    },
    "deletable": false,
    "id": "GjB6zFf1Eogv",
    "nbgrader": {
     "cell_type": "code",
     "checksum": "3daa3afc1399df82d48fdda6e708d323",
     "grade": false,
     "grade_id": "cell-48efb7a8aa38474d",
     "locked": false,
     "schema_version": 3,
     "solution": true,
     "task": false
    },
    "outputId": "598b1a37-629c-415f-f1d8-adf5676f74d1"
   },
   "outputs": [
    {
     "name": "stdout",
     "output_type": "stream",
     "text": [
      "Requirement already satisfied: xgboost in /opt/conda/lib/python3.11/site-packages (3.0.2)\n",
      "Requirement already satisfied: numpy in /opt/conda/lib/python3.11/site-packages (from xgboost) (2.1.2)\n",
      "Requirement already satisfied: nvidia-nccl-cu12 in /opt/conda/lib/python3.11/site-packages (from xgboost) (2.20.5)\n",
      "Requirement already satisfied: scipy in /opt/conda/lib/python3.11/site-packages (from xgboost) (1.14.1)\n",
      "0.989198\n",
      "0.965278\n"
     ]
    },
    {
     "name": "stderr",
     "output_type": "stream",
     "text": [
      "/opt/conda/lib/python3.11/site-packages/xgboost/training.py:183: UserWarning: [19:37:08] WARNING: /workspace/src/learner.cc:738: \n",
      "Parameters: { \"use_label_encoder\" } are not used.\n",
      "\n",
      "  bst.update(dtrain, iteration=i, fobj=obj)\n"
     ]
    }
   ],
   "source": [
    "# Aplica Clasificación XGB al conjunto de entrenamiento con random_state=42\n",
    "# n_estimators=max_depth=5, learning_rate=1 y muestra el valor de la exactitud\n",
    "# sobre el conjunto de pruebas, redondeados a 6 cifras decimales\n",
    "# Instalar xgboost, de ser necesario descomenta la siguiente línea\n",
    "!pip install xgboost\n",
    "import xgboost\n",
    "\n",
    "# Se añaden parámetros para evitar advertencias en versiones recientes de la biblioteca\n",
    "xgb = xgboost.XGBClassifier(random_state=42, n_estimators=5, max_depth=5, learning_rate=1, use_label_encoder=False, eval_metric='mlogloss')\n",
    "xgb.fit(X_train, y_train)\n",
    "\n",
    "accuracy_train_xgb = round(xgb.score(X_train, y_train), 6)\n",
    "accuracy_test_xgb = round(xgb.score(X_test, y_test), 6)\n",
    "print(accuracy_train_xgb)\n",
    "print(accuracy_test_xgb)"
   ]
  },
  {
   "cell_type": "code",
   "execution_count": 23,
   "metadata": {
    "deletable": false,
    "editable": false,
    "id": "XFiZMzLmBhiZ",
    "nbgrader": {
     "cell_type": "code",
     "checksum": "97734459f1e513b01c98caae409ff482",
     "grade": true,
     "grade_id": "cell-2fafbfaa08142fbc",
     "locked": true,
     "points": 2,
     "schema_version": 3,
     "solution": false,
     "task": false
    }
   },
   "outputs": [
    {
     "name": "stdout",
     "output_type": "stream",
     "text": [
      "\u001b[39m――――――――――――――――――――――――――――――――――――――――\n",
      "\u001b[32m9 | Tu resultado es correcto.\n",
      "\u001b[39m――――――――――――――――――――――――――――――――――――――――\n"
     ]
    }
   ],
   "source": [
    "quiz.eval_numeric('9', accuracy_train_xgb)"
   ]
  },
  {
   "cell_type": "code",
   "execution_count": 24,
   "metadata": {
    "deletable": false,
    "editable": false,
    "id": "3sg9HFeAEqHI",
    "nbgrader": {
     "cell_type": "code",
     "checksum": "1b34e85aefcde335c18b5a1975f96f93",
     "grade": true,
     "grade_id": "cell-78d38736fa22f00b",
     "locked": true,
     "points": 2,
     "schema_version": 3,
     "solution": false,
     "task": false
    }
   },
   "outputs": [
    {
     "name": "stdout",
     "output_type": "stream",
     "text": [
      "\u001b[39m――――――――――――――――――――――――――――――――――――――――\n",
      "\u001b[32m10 | Tu resultado es correcto.\n",
      "\u001b[39m――――――――――――――――――――――――――――――――――――――――\n"
     ]
    }
   ],
   "source": [
    "quiz.eval_numeric('10', accuracy_test_xgb)"
   ]
  },
  {
   "cell_type": "code",
   "execution_count": 25,
   "metadata": {
    "colab": {
     "base_uri": "https://localhost:8080/",
     "height": 680
    },
    "id": "t79q7jflEqLi",
    "outputId": "1539e000-d6db-46d3-e73c-e72c5fb04d29"
   },
   "outputs": [],
   "source": [
    "# Las visualizaciones de xgboost no sirven en Macti\n",
    "#import xgboost\n",
    "#xgboost.plot_tree(xgb)\n",
    "#xgboost.to_graphviz(xgb)"
   ]
  },
  {
   "cell_type": "code",
   "execution_count": null,
   "metadata": {
    "id": "CXVs7VrAAvID"
   },
   "outputs": [],
   "source": []
  }
 ],
 "metadata": {
  "colab": {
   "provenance": []
  },
  "kernelspec": {
   "display_name": "Python 3 (ipykernel)",
   "language": "python",
   "name": "python3"
  },
  "language_info": {
   "codemirror_mode": {
    "name": "ipython",
    "version": 3
   },
   "file_extension": ".py",
   "mimetype": "text/x-python",
   "name": "python",
   "nbconvert_exporter": "python",
   "pygments_lexer": "ipython3",
   "version": "3.11.6"
  }
 },
 "nbformat": 4,
 "nbformat_minor": 4
}
